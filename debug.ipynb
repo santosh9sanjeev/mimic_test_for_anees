{
 "cells": [
  {
   "attachments": {},
   "cell_type": "markdown",
   "metadata": {},
   "source": [
    "## Check VinDr CSV"
   ]
  },
  {
   "cell_type": "code",
   "execution_count": 1,
   "metadata": {},
   "outputs": [],
   "source": [
    "import pandas as pd\n",
    "import os\n",
    "import numpy as np"
   ]
  },
  {
   "cell_type": "code",
   "execution_count": 2,
   "metadata": {},
   "outputs": [
    {
     "data": {
      "text/plain": [
       "['train.csv', 'val.csv']"
      ]
     },
     "execution_count": 2,
     "metadata": {},
     "output_type": "execute_result"
    }
   ],
   "source": [
    "os.listdir('/share/nvmedata/vinbigdata-chest-xray-resized-pt-512x512/rsna_vindr_cnet_csv/')"
   ]
  },
  {
   "cell_type": "code",
   "execution_count": 14,
   "metadata": {},
   "outputs": [
    {
     "data": {
      "text/html": [
       "<div>\n",
       "<style scoped>\n",
       "    .dataframe tbody tr th:only-of-type {\n",
       "        vertical-align: middle;\n",
       "    }\n",
       "\n",
       "    .dataframe tbody tr th {\n",
       "        vertical-align: top;\n",
       "    }\n",
       "\n",
       "    .dataframe thead th {\n",
       "        text-align: right;\n",
       "    }\n",
       "</style>\n",
       "<table border=\"1\" class=\"dataframe\">\n",
       "  <thead>\n",
       "    <tr style=\"text-align: right;\">\n",
       "      <th></th>\n",
       "      <th>image_id</th>\n",
       "      <th>level_1</th>\n",
       "      <th>x_min</th>\n",
       "      <th>y_min</th>\n",
       "      <th>x_max</th>\n",
       "      <th>y_max</th>\n",
       "      <th>area</th>\n",
       "      <th>path</th>\n",
       "      <th>class_name</th>\n",
       "      <th>class_id</th>\n",
       "    </tr>\n",
       "  </thead>\n",
       "  <tbody>\n",
       "    <tr>\n",
       "      <th>0</th>\n",
       "      <td>0010f549-b242-4e94-87a8-57d79de215fc</td>\n",
       "      <td>0</td>\n",
       "      <td>NaN</td>\n",
       "      <td>NaN</td>\n",
       "      <td>NaN</td>\n",
       "      <td>NaN</td>\n",
       "      <td>NaN</td>\n",
       "      <td>/share/nvmedata/RSNA-Pneunomia-Detection-PT/st...</td>\n",
       "      <td>No Finding</td>\n",
       "      <td>14</td>\n",
       "    </tr>\n",
       "    <tr>\n",
       "      <th>1</th>\n",
       "      <td>00575e3846ebd05a909d97ba59c53d30</td>\n",
       "      <td>0</td>\n",
       "      <td>NaN</td>\n",
       "      <td>NaN</td>\n",
       "      <td>NaN</td>\n",
       "      <td>NaN</td>\n",
       "      <td>NaN</td>\n",
       "      <td>/share/nvmedata/vinbigdata-chest-xray-resized-...</td>\n",
       "      <td>No Finding</td>\n",
       "      <td>14</td>\n",
       "    </tr>\n",
       "    <tr>\n",
       "      <th>2</th>\n",
       "      <td>005be26a68485912e007a3703f43d60a</td>\n",
       "      <td>0</td>\n",
       "      <td>NaN</td>\n",
       "      <td>NaN</td>\n",
       "      <td>NaN</td>\n",
       "      <td>NaN</td>\n",
       "      <td>NaN</td>\n",
       "      <td>/share/nvmedata/vinbigdata-chest-xray-resized-...</td>\n",
       "      <td>No Finding</td>\n",
       "      <td>14</td>\n",
       "    </tr>\n",
       "    <tr>\n",
       "      <th>3</th>\n",
       "      <td>007c1195aab852cff5c20736be26a1ae</td>\n",
       "      <td>0</td>\n",
       "      <td>NaN</td>\n",
       "      <td>NaN</td>\n",
       "      <td>NaN</td>\n",
       "      <td>NaN</td>\n",
       "      <td>NaN</td>\n",
       "      <td>/share/nvmedata/vinbigdata-chest-xray-resized-...</td>\n",
       "      <td>No Finding</td>\n",
       "      <td>14</td>\n",
       "    </tr>\n",
       "    <tr>\n",
       "      <th>4</th>\n",
       "      <td>00ad02393a5d0bd1e0dcf3196433499f</td>\n",
       "      <td>0</td>\n",
       "      <td>NaN</td>\n",
       "      <td>NaN</td>\n",
       "      <td>NaN</td>\n",
       "      <td>NaN</td>\n",
       "      <td>NaN</td>\n",
       "      <td>/share/nvmedata/vinbigdata-chest-xray-resized-...</td>\n",
       "      <td>No Finding</td>\n",
       "      <td>14</td>\n",
       "    </tr>\n",
       "  </tbody>\n",
       "</table>\n",
       "</div>"
      ],
      "text/plain": [
       "                               image_id  level_1  x_min  y_min  x_max  y_max  \\\n",
       "0  0010f549-b242-4e94-87a8-57d79de215fc        0    NaN    NaN    NaN    NaN   \n",
       "1      00575e3846ebd05a909d97ba59c53d30        0    NaN    NaN    NaN    NaN   \n",
       "2      005be26a68485912e007a3703f43d60a        0    NaN    NaN    NaN    NaN   \n",
       "3      007c1195aab852cff5c20736be26a1ae        0    NaN    NaN    NaN    NaN   \n",
       "4      00ad02393a5d0bd1e0dcf3196433499f        0    NaN    NaN    NaN    NaN   \n",
       "\n",
       "   area                                               path  class_name  \\\n",
       "0   NaN  /share/nvmedata/RSNA-Pneunomia-Detection-PT/st...  No Finding   \n",
       "1   NaN  /share/nvmedata/vinbigdata-chest-xray-resized-...  No Finding   \n",
       "2   NaN  /share/nvmedata/vinbigdata-chest-xray-resized-...  No Finding   \n",
       "3   NaN  /share/nvmedata/vinbigdata-chest-xray-resized-...  No Finding   \n",
       "4   NaN  /share/nvmedata/vinbigdata-chest-xray-resized-...  No Finding   \n",
       "\n",
       "   class_id  \n",
       "0        14  \n",
       "1        14  \n",
       "2        14  \n",
       "3        14  \n",
       "4        14  "
      ]
     },
     "execution_count": 14,
     "metadata": {},
     "output_type": "execute_result"
    }
   ],
   "source": [
    "csv_path = \"/share/nvmedata/vinbigdata-chest-xray-resized-pt-512x512/rsna_vindr_cnet_csv/val.csv\"\n",
    "df = pd.read_csv(csv_path)\n",
    "df['class_name'].replace(\"No finding\", \"No Finding\", inplace=True)\n",
    "\n",
    "df.head()"
   ]
  },
  {
   "cell_type": "code",
   "execution_count": 15,
   "metadata": {},
   "outputs": [],
   "source": [
    "df.drop(columns=['level_1'], inplace=True)"
   ]
  },
  {
   "cell_type": "code",
   "execution_count": 16,
   "metadata": {},
   "outputs": [
    {
     "data": {
      "text/plain": [
       "((1321, 9), 1100)"
      ]
     },
     "execution_count": 16,
     "metadata": {},
     "output_type": "execute_result"
    }
   ],
   "source": [
    "df.shape, df['image_id'].nunique()"
   ]
  },
  {
   "cell_type": "code",
   "execution_count": 21,
   "metadata": {},
   "outputs": [],
   "source": [
    "clsss = df['class_name'].unique().tolist()[1:]"
   ]
  },
  {
   "cell_type": "code",
   "execution_count": 33,
   "metadata": {},
   "outputs": [],
   "source": [
    "counts = df['image_id'].value_counts().tolist()"
   ]
  },
  {
   "cell_type": "code",
   "execution_count": 34,
   "metadata": {},
   "outputs": [
    {
     "data": {
      "text/plain": [
       "1100"
      ]
     },
     "execution_count": 34,
     "metadata": {},
     "output_type": "execute_result"
    }
   ],
   "source": [
    "len(counts)"
   ]
  },
  {
   "cell_type": "code",
   "execution_count": 35,
   "metadata": {},
   "outputs": [],
   "source": [
    "imgs = df['image_id'].unique().tolist()"
   ]
  },
  {
   "cell_type": "code",
   "execution_count": 37,
   "metadata": {},
   "outputs": [
    {
     "data": {
      "text/plain": [
       "134"
      ]
     },
     "execution_count": 37,
     "metadata": {},
     "output_type": "execute_result"
    }
   ],
   "source": [
    "count_1 = [idx for idx, i in enumerate(counts) if i > 1]\n",
    "len(count_1)"
   ]
  },
  {
   "cell_type": "code",
   "execution_count": 40,
   "metadata": {},
   "outputs": [],
   "source": [
    "gt_1_imgs = np.array(imgs)[count_1]"
   ]
  },
  {
   "cell_type": "code",
   "execution_count": 54,
   "metadata": {},
   "outputs": [
    {
     "name": "stderr",
     "output_type": "stream",
     "text": [
      "/tmp/ipykernel_185923/3706636338.py:4: UserWarning: Boolean Series key will be reindexed to match DataFrame index.\n",
      "  if len(df[df['class_id']!=14][df['image_id'] ==i])>0:\n",
      "/tmp/ipykernel_185923/3706636338.py:4: UserWarning: Boolean Series key will be reindexed to match DataFrame index.\n",
      "  if len(df[df['class_id']!=14][df['image_id'] ==i])>0:\n",
      "/tmp/ipykernel_185923/3706636338.py:4: UserWarning: Boolean Series key will be reindexed to match DataFrame index.\n",
      "  if len(df[df['class_id']!=14][df['image_id'] ==i])>0:\n",
      "/tmp/ipykernel_185923/3706636338.py:4: UserWarning: Boolean Series key will be reindexed to match DataFrame index.\n",
      "  if len(df[df['class_id']!=14][df['image_id'] ==i])>0:\n",
      "/tmp/ipykernel_185923/3706636338.py:4: UserWarning: Boolean Series key will be reindexed to match DataFrame index.\n",
      "  if len(df[df['class_id']!=14][df['image_id'] ==i])>0:\n",
      "/tmp/ipykernel_185923/3706636338.py:4: UserWarning: Boolean Series key will be reindexed to match DataFrame index.\n",
      "  if len(df[df['class_id']!=14][df['image_id'] ==i])>0:\n",
      "/tmp/ipykernel_185923/3706636338.py:4: UserWarning: Boolean Series key will be reindexed to match DataFrame index.\n",
      "  if len(df[df['class_id']!=14][df['image_id'] ==i])>0:\n",
      "/tmp/ipykernel_185923/3706636338.py:4: UserWarning: Boolean Series key will be reindexed to match DataFrame index.\n",
      "  if len(df[df['class_id']!=14][df['image_id'] ==i])>0:\n",
      "/tmp/ipykernel_185923/3706636338.py:4: UserWarning: Boolean Series key will be reindexed to match DataFrame index.\n",
      "  if len(df[df['class_id']!=14][df['image_id'] ==i])>0:\n"
     ]
    }
   ],
   "source": [
    "# df[df['image_id'].isin(gt_1_imgs)].sort_values(by=['image_id'])\n",
    "\n",
    "for i in gt_1_imgs:\n",
    "    if len(df[df['class_id']!=14][df['image_id'] ==i])>0:\n",
    "        # print(df[df['class_id']!=14][df['image_id'] ==[3]])\n",
    "        break"
   ]
  },
  {
   "cell_type": "code",
   "execution_count": 58,
   "metadata": {},
   "outputs": [
    {
     "data": {
      "text/plain": [
       "['rsna_vindr_cnet_csv',\n",
       " 'vindr_only_csv',\n",
       " 'new_csv',\n",
       " 'train',\n",
       " 'val',\n",
       " 'archived',\n",
       " 'test',\n",
       " 'rsna_vindr_csv']"
      ]
     },
     "execution_count": 58,
     "metadata": {},
     "output_type": "execute_result"
    }
   ],
   "source": [
    "os.listdir('/share/nvmedata/vinbigdata-chest-xray-resized-pt-512x512/')"
   ]
  },
  {
   "cell_type": "code",
   "execution_count": 60,
   "metadata": {},
   "outputs": [
    {
     "data": {
      "text/plain": [
       "['train.csv', 'val.csv']"
      ]
     },
     "execution_count": 60,
     "metadata": {},
     "output_type": "execute_result"
    }
   ],
   "source": [
    "os.listdir('/share/nvmedata/vinbigdata-chest-xray-resized-pt-512x512/new_csv/')"
   ]
  },
  {
   "cell_type": "code",
   "execution_count": 61,
   "metadata": {},
   "outputs": [],
   "source": [
    "df_new = pd.read_csv('/share/nvmedata/vinbigdata-chest-xray-resized-pt-512x512/new_csv/val.csv')"
   ]
  },
  {
   "cell_type": "code",
   "execution_count": 63,
   "metadata": {},
   "outputs": [
    {
     "data": {
      "text/plain": [
       "<Axes: xlabel='class_name'>"
      ]
     },
     "execution_count": 63,
     "metadata": {},
     "output_type": "execute_result"
    },
    {
     "data": {
      "image/png": "[encoded data removed]",
      "text/plain": [
       "<Figure size 640x480 with 1 Axes>"
      ]
     },
     "metadata": {},
     "output_type": "display_data"
    }
   ],
   "source": [
    "df_new['class_name'].value_counts().plot(kind='bar')"
   ]
  },
  {
   "cell_type": "code",
   "execution_count": 66,
   "metadata": {},
   "outputs": [
    {
     "data": {
      "text/plain": [
       "((1321, 9), (1000, 15))"
      ]
     },
     "execution_count": 66,
     "metadata": {},
     "output_type": "execute_result"
    }
   ],
   "source": [
    "df.shape, df_new.shape"
   ]
  },
  {
   "cell_type": "code",
   "execution_count": null,
   "metadata": {},
   "outputs": [],
   "source": []
  },
  {
   "cell_type": "code",
   "execution_count": 56,
   "metadata": {},
   "outputs": [
    {
     "name": "stderr",
     "output_type": "stream",
     "text": [
      "/tmp/ipykernel_185923/2691642639.py:1: UserWarning: Boolean Series key will be reindexed to match DataFrame index.\n",
      "  df[df['class_id']!=14][df['image_id'] ==i]\n"
     ]
    },
    {
     "data": {
      "text/html": [
       "<div>\n",
       "<style scoped>\n",
       "    .dataframe tbody tr th:only-of-type {\n",
       "        vertical-align: middle;\n",
       "    }\n",
       "\n",
       "    .dataframe tbody tr th {\n",
       "        vertical-align: top;\n",
       "    }\n",
       "\n",
       "    .dataframe thead th {\n",
       "        text-align: right;\n",
       "    }\n",
       "</style>\n",
       "<table border=\"1\" class=\"dataframe\">\n",
       "  <thead>\n",
       "    <tr style=\"text-align: right;\">\n",
       "      <th></th>\n",
       "      <th>image_id</th>\n",
       "      <th>x_min</th>\n",
       "      <th>y_min</th>\n",
       "      <th>x_max</th>\n",
       "      <th>y_max</th>\n",
       "      <th>area</th>\n",
       "      <th>path</th>\n",
       "      <th>class_name</th>\n",
       "      <th>class_id</th>\n",
       "    </tr>\n",
       "  </thead>\n",
       "  <tbody>\n",
       "    <tr>\n",
       "      <th>8</th>\n",
       "      <td>01a3c3d994d85ce5634d2d13c03fd4b0</td>\n",
       "      <td>NaN</td>\n",
       "      <td>NaN</td>\n",
       "      <td>NaN</td>\n",
       "      <td>NaN</td>\n",
       "      <td>2707.916667</td>\n",
       "      <td>/share/nvmedata/vinbigdata-chest-xray-resized-...</td>\n",
       "      <td>Pleural Effusion</td>\n",
       "      <td>8</td>\n",
       "    </tr>\n",
       "    <tr>\n",
       "      <th>9</th>\n",
       "      <td>01a3c3d994d85ce5634d2d13c03fd4b0</td>\n",
       "      <td>111.833333</td>\n",
       "      <td>243.333333</td>\n",
       "      <td>177.166667</td>\n",
       "      <td>304.333333</td>\n",
       "      <td>2707.916667</td>\n",
       "      <td>/share/nvmedata/vinbigdata-chest-xray-resized-...</td>\n",
       "      <td>Pleural Effusion</td>\n",
       "      <td>8</td>\n",
       "    </tr>\n",
       "    <tr>\n",
       "      <th>10</th>\n",
       "      <td>01a3c3d994d85ce5634d2d13c03fd4b0</td>\n",
       "      <td>114.666667</td>\n",
       "      <td>52.333333</td>\n",
       "      <td>171.833333</td>\n",
       "      <td>242.166667</td>\n",
       "      <td>2707.916667</td>\n",
       "      <td>/share/nvmedata/vinbigdata-chest-xray-resized-...</td>\n",
       "      <td>Pleural Effusion</td>\n",
       "      <td>8</td>\n",
       "    </tr>\n",
       "    <tr>\n",
       "      <th>11</th>\n",
       "      <td>01a3c3d994d85ce5634d2d13c03fd4b0</td>\n",
       "      <td>173.000000</td>\n",
       "      <td>52.333333</td>\n",
       "      <td>242.666667</td>\n",
       "      <td>101.000000</td>\n",
       "      <td>2707.916667</td>\n",
       "      <td>/share/nvmedata/vinbigdata-chest-xray-resized-...</td>\n",
       "      <td>Pleural Effusion</td>\n",
       "      <td>8</td>\n",
       "    </tr>\n",
       "  </tbody>\n",
       "</table>\n",
       "</div>"
      ],
      "text/plain": [
       "                            image_id       x_min       y_min       x_max  \\\n",
       "8   01a3c3d994d85ce5634d2d13c03fd4b0         NaN         NaN         NaN   \n",
       "9   01a3c3d994d85ce5634d2d13c03fd4b0  111.833333  243.333333  177.166667   \n",
       "10  01a3c3d994d85ce5634d2d13c03fd4b0  114.666667   52.333333  171.833333   \n",
       "11  01a3c3d994d85ce5634d2d13c03fd4b0  173.000000   52.333333  242.666667   \n",
       "\n",
       "         y_max         area  \\\n",
       "8          NaN  2707.916667   \n",
       "9   304.333333  2707.916667   \n",
       "10  242.166667  2707.916667   \n",
       "11  101.000000  2707.916667   \n",
       "\n",
       "                                                 path        class_name  \\\n",
       "8   /share/nvmedata/vinbigdata-chest-xray-resized-...  Pleural Effusion   \n",
       "9   /share/nvmedata/vinbigdata-chest-xray-resized-...  Pleural Effusion   \n",
       "10  /share/nvmedata/vinbigdata-chest-xray-resized-...  Pleural Effusion   \n",
       "11  /share/nvmedata/vinbigdata-chest-xray-resized-...  Pleural Effusion   \n",
       "\n",
       "    class_id  \n",
       "8          8  \n",
       "9          8  \n",
       "10         8  \n",
       "11         8  "
      ]
     },
     "execution_count": 56,
     "metadata": {},
     "output_type": "execute_result"
    }
   ],
   "source": [
    "df[df['class_id']!=14][df['image_id'] ==i]"
   ]
  },
  {
   "cell_type": "code",
   "execution_count": 17,
   "metadata": {},
   "outputs": [
    {
     "data": {
      "text/html": [
       "<div>\n",
       "<style scoped>\n",
       "    .dataframe tbody tr th:only-of-type {\n",
       "        vertical-align: middle;\n",
       "    }\n",
       "\n",
       "    .dataframe tbody tr th {\n",
       "        vertical-align: top;\n",
       "    }\n",
       "\n",
       "    .dataframe thead th {\n",
       "        text-align: right;\n",
       "    }\n",
       "</style>\n",
       "<table border=\"1\" class=\"dataframe\">\n",
       "  <thead>\n",
       "    <tr style=\"text-align: right;\">\n",
       "      <th></th>\n",
       "      <th>image_id</th>\n",
       "      <th>x_min</th>\n",
       "      <th>y_min</th>\n",
       "      <th>x_max</th>\n",
       "      <th>y_max</th>\n",
       "      <th>area</th>\n",
       "      <th>path</th>\n",
       "      <th>class_id</th>\n",
       "    </tr>\n",
       "    <tr>\n",
       "      <th>class_name</th>\n",
       "      <th></th>\n",
       "      <th></th>\n",
       "      <th></th>\n",
       "      <th></th>\n",
       "      <th></th>\n",
       "      <th></th>\n",
       "      <th></th>\n",
       "      <th></th>\n",
       "    </tr>\n",
       "  </thead>\n",
       "  <tbody>\n",
       "    <tr>\n",
       "      <th>Atelectasis</th>\n",
       "      <td>9</td>\n",
       "      <td>6</td>\n",
       "      <td>6</td>\n",
       "      <td>6</td>\n",
       "      <td>6</td>\n",
       "      <td>9</td>\n",
       "      <td>9</td>\n",
       "      <td>9</td>\n",
       "    </tr>\n",
       "    <tr>\n",
       "      <th>Cardiomegaly</th>\n",
       "      <td>124</td>\n",
       "      <td>116</td>\n",
       "      <td>116</td>\n",
       "      <td>116</td>\n",
       "      <td>116</td>\n",
       "      <td>124</td>\n",
       "      <td>124</td>\n",
       "      <td>124</td>\n",
       "    </tr>\n",
       "    <tr>\n",
       "      <th>Consolidation</th>\n",
       "      <td>22</td>\n",
       "      <td>14</td>\n",
       "      <td>14</td>\n",
       "      <td>14</td>\n",
       "      <td>14</td>\n",
       "      <td>20</td>\n",
       "      <td>22</td>\n",
       "      <td>22</td>\n",
       "    </tr>\n",
       "    <tr>\n",
       "      <th>Lung Opacity</th>\n",
       "      <td>88</td>\n",
       "      <td>61</td>\n",
       "      <td>61</td>\n",
       "      <td>61</td>\n",
       "      <td>61</td>\n",
       "      <td>84</td>\n",
       "      <td>88</td>\n",
       "      <td>88</td>\n",
       "    </tr>\n",
       "    <tr>\n",
       "      <th>No Finding</th>\n",
       "      <td>914</td>\n",
       "      <td>0</td>\n",
       "      <td>0</td>\n",
       "      <td>0</td>\n",
       "      <td>0</td>\n",
       "      <td>0</td>\n",
       "      <td>914</td>\n",
       "      <td>914</td>\n",
       "    </tr>\n",
       "    <tr>\n",
       "      <th>Pleural Effusion</th>\n",
       "      <td>31</td>\n",
       "      <td>21</td>\n",
       "      <td>21</td>\n",
       "      <td>21</td>\n",
       "      <td>21</td>\n",
       "      <td>30</td>\n",
       "      <td>31</td>\n",
       "      <td>31</td>\n",
       "    </tr>\n",
       "    <tr>\n",
       "      <th>Pneumothorax</th>\n",
       "      <td>4</td>\n",
       "      <td>2</td>\n",
       "      <td>2</td>\n",
       "      <td>2</td>\n",
       "      <td>2</td>\n",
       "      <td>3</td>\n",
       "      <td>4</td>\n",
       "      <td>4</td>\n",
       "    </tr>\n",
       "    <tr>\n",
       "      <th>pneumonia</th>\n",
       "      <td>129</td>\n",
       "      <td>129</td>\n",
       "      <td>129</td>\n",
       "      <td>129</td>\n",
       "      <td>129</td>\n",
       "      <td>129</td>\n",
       "      <td>129</td>\n",
       "      <td>129</td>\n",
       "    </tr>\n",
       "  </tbody>\n",
       "</table>\n",
       "</div>"
      ],
      "text/plain": [
       "                  image_id  x_min  y_min  x_max  y_max  area  path  class_id\n",
       "class_name                                                                  \n",
       "Atelectasis              9      6      6      6      6     9     9         9\n",
       "Cardiomegaly           124    116    116    116    116   124   124       124\n",
       "Consolidation           22     14     14     14     14    20    22        22\n",
       "Lung Opacity            88     61     61     61     61    84    88        88\n",
       "No Finding             914      0      0      0      0     0   914       914\n",
       "Pleural Effusion        31     21     21     21     21    30    31        31\n",
       "Pneumothorax             4      2      2      2      2     3     4         4\n",
       "pneumonia              129    129    129    129    129   129   129       129"
      ]
     },
     "execution_count": 17,
     "metadata": {},
     "output_type": "execute_result"
    }
   ],
   "source": [
    "df.groupby('class_name').count()"
   ]
  },
  {
   "cell_type": "code",
   "execution_count": null,
   "metadata": {},
   "outputs": [],
   "source": []
  },
  {
   "cell_type": "code",
   "execution_count": 90,
   "metadata": {},
   "outputs": [
    {
     "data": {
      "text/plain": [
       "<Axes: xlabel='class_name'>"
      ]
     },
     "execution_count": 90,
     "metadata": {},
     "output_type": "execute_result"
    },
    {
     "data": {
      "image/png": "[encoded data removed]",
      "text/plain": [
       "<Figure size 640x480 with 1 Axes>"
      ]
     },
     "metadata": {},
     "output_type": "display_data"
    }
   ],
   "source": [
    "df['class_name'].value_counts().plot(kind='bar')"
   ]
  },
  {
   "cell_type": "code",
   "execution_count": 73,
   "metadata": {},
   "outputs": [],
   "source": [
    "# def fix_path(path):\n",
    "#     if \"RSNA\" in path:\n",
    "#         return path.replace(\"RSNA-Pneunomia-Detection-PT\", 'RSNA-Pneunomia-Detection-PT/stage_2_train_pt')\n",
    "#     return path\n",
    "# df['path'] = df['path'].apply(fix_path)\n"
   ]
  },
  {
   "cell_type": "code",
   "execution_count": 74,
   "metadata": {},
   "outputs": [],
   "source": [
    "# df.to_csv(\"/share/nvmedata/vinbigdata-chest-xray-resized-pt-512x512/rsna_vindr_cnet_csv/val.csv\", index=False)"
   ]
  },
  {
   "cell_type": "code",
   "execution_count": 75,
   "metadata": {},
   "outputs": [],
   "source": [
    "rsna_paths = [i for i in df['path'].tolist() if \"RSNA\" in i]"
   ]
  },
  {
   "cell_type": "code",
   "execution_count": 77,
   "metadata": {},
   "outputs": [
    {
     "data": {
      "text/plain": [
       "['train.csv', 'val.csv']"
      ]
     },
     "execution_count": 77,
     "metadata": {},
     "output_type": "execute_result"
    }
   ],
   "source": [
    "os.listdir('/share/nvmedata/vinbigdata-chest-xray-resized-pt-512x512/rsna_vindr_cnet_csv/')"
   ]
  },
  {
   "cell_type": "code",
   "execution_count": 91,
   "metadata": {},
   "outputs": [
    {
     "data": {
      "text/plain": [
       "<Axes: xlabel='class_name'>"
      ]
     },
     "execution_count": 91,
     "metadata": {},
     "output_type": "execute_result"
    },
    {
     "data": {
      "image/png": "[encoded data removed]",
      "text/plain": [
       "<Figure size 640x480 with 1 Axes>"
      ]
     },
     "metadata": {},
     "output_type": "display_data"
    }
   ],
   "source": [
    "df['class_name'].value_counts().plot(kind='bar')"
   ]
  },
  {
   "cell_type": "code",
   "execution_count": 79,
   "metadata": {},
   "outputs": [],
   "source": [
    "df = pd.read_csv(\"/home/aneeshashmi/generative/vindr_gen/pre_processed_csv/mimic/mimic_pt.csv\")"
   ]
  },
  {
   "cell_type": "code",
   "execution_count": 80,
   "metadata": {},
   "outputs": [],
   "source": [
    "# df[df.columns[13:-2]]\n",
    "\n",
    "a = df.columns[13:-2].tolist()"
   ]
  },
  {
   "cell_type": "code",
   "execution_count": 82,
   "metadata": {},
   "outputs": [],
   "source": [
    "csv_path = \"/share/nvmedata/vinbigdata-chest-xray-resized-pt-512x512/rsna_vindr_cnet_csv/train.csv\"\n",
    "df = pd.read_csv(csv_path)\n",
    "df['class_name'].replace(\"No finding\", \"No Finding\", inplace=True)\n",
    "df.head()\n",
    "\n",
    "b = df['class_name'].unique().tolist()\n",
    "b = [x.lower() for x in b]"
   ]
  },
  {
   "cell_type": "code",
   "execution_count": 86,
   "metadata": {},
   "outputs": [],
   "source": [
    "commons =  [i for i in a if i.lower() in b]"
   ]
  },
  {
   "cell_type": "code",
   "execution_count": 102,
   "metadata": {},
   "outputs": [
    {
     "data": {
      "text/plain": [
       "{'Atelectasis': 0,\n",
       " 'Cardiomegaly': 1,\n",
       " 'Consolidation': 2,\n",
       " 'Lung Opacity': 3,\n",
       " 'No Finding': 4,\n",
       " 'Pleural Effusion': 5,\n",
       " 'Pneumothorax': 6,\n",
       " 'pneumonia': 7}"
      ]
     },
     "execution_count": 102,
     "metadata": {},
     "output_type": "execute_result"
    }
   ],
   "source": [
    "dict(zip(sorted(df['class_name'].unique().tolist()), list(range(len(sorted(df['class_name'].unique().tolist()))))))"
   ]
  },
  {
   "cell_type": "code",
   "execution_count": 97,
   "metadata": {},
   "outputs": [
    {
     "data": {
      "text/plain": [
       "['Atelectasis',\n",
       " 'Cardiomegaly',\n",
       " 'Consolidation',\n",
       " 'Lung Opacity',\n",
       " 'No Finding',\n",
       " 'Pleural effusion',\n",
       " 'Pneumothorax',\n",
       " 'pneumonia']"
      ]
     },
     "execution_count": 97,
     "metadata": {},
     "output_type": "execute_result"
    }
   ],
   "source": []
  },
  {
   "attachments": {},
   "cell_type": "markdown",
   "metadata": {},
   "source": [
    "## Original CSVs"
   ]
  },
  {
   "cell_type": "code",
   "execution_count": 67,
   "metadata": {},
   "outputs": [],
   "source": [
    "original_csv_dir = \"/share/nvmedata/vinbigdata-chest-xray-resized-pt-512x512/original_csv\"\n",
    "train_df = pd.read_csv(os.path.join(original_csv_dir, \"train.csv\"))\n",
    "test_df = pd.read_csv(os.path.join(original_csv_dir, \"test.csv\"))"
   ]
  },
  {
   "cell_type": "code",
   "execution_count": 68,
   "metadata": {},
   "outputs": [
    {
     "data": {
      "text/html": [
       "<div>\n",
       "<style scoped>\n",
       "    .dataframe tbody tr th:only-of-type {\n",
       "        vertical-align: middle;\n",
       "    }\n",
       "\n",
       "    .dataframe tbody tr th {\n",
       "        vertical-align: top;\n",
       "    }\n",
       "\n",
       "    .dataframe thead th {\n",
       "        text-align: right;\n",
       "    }\n",
       "</style>\n",
       "<table border=\"1\" class=\"dataframe\">\n",
       "  <thead>\n",
       "    <tr style=\"text-align: right;\">\n",
       "      <th></th>\n",
       "      <th>image_id</th>\n",
       "      <th>rad_id</th>\n",
       "      <th>class_name</th>\n",
       "      <th>x_min</th>\n",
       "      <th>y_min</th>\n",
       "      <th>x_max</th>\n",
       "      <th>y_max</th>\n",
       "    </tr>\n",
       "  </thead>\n",
       "  <tbody>\n",
       "    <tr>\n",
       "      <th>0</th>\n",
       "      <td>000434271f63a053c4128a0ba6352c7f</td>\n",
       "      <td>R2</td>\n",
       "      <td>No finding</td>\n",
       "      <td>NaN</td>\n",
       "      <td>NaN</td>\n",
       "      <td>NaN</td>\n",
       "      <td>NaN</td>\n",
       "    </tr>\n",
       "    <tr>\n",
       "      <th>1</th>\n",
       "      <td>000434271f63a053c4128a0ba6352c7f</td>\n",
       "      <td>R3</td>\n",
       "      <td>No finding</td>\n",
       "      <td>NaN</td>\n",
       "      <td>NaN</td>\n",
       "      <td>NaN</td>\n",
       "      <td>NaN</td>\n",
       "    </tr>\n",
       "    <tr>\n",
       "      <th>2</th>\n",
       "      <td>000434271f63a053c4128a0ba6352c7f</td>\n",
       "      <td>R6</td>\n",
       "      <td>No finding</td>\n",
       "      <td>NaN</td>\n",
       "      <td>NaN</td>\n",
       "      <td>NaN</td>\n",
       "      <td>NaN</td>\n",
       "    </tr>\n",
       "    <tr>\n",
       "      <th>3</th>\n",
       "      <td>00053190460d56c53cc3e57321387478</td>\n",
       "      <td>R11</td>\n",
       "      <td>No finding</td>\n",
       "      <td>NaN</td>\n",
       "      <td>NaN</td>\n",
       "      <td>NaN</td>\n",
       "      <td>NaN</td>\n",
       "    </tr>\n",
       "    <tr>\n",
       "      <th>4</th>\n",
       "      <td>00053190460d56c53cc3e57321387478</td>\n",
       "      <td>R2</td>\n",
       "      <td>No finding</td>\n",
       "      <td>NaN</td>\n",
       "      <td>NaN</td>\n",
       "      <td>NaN</td>\n",
       "      <td>NaN</td>\n",
       "    </tr>\n",
       "  </tbody>\n",
       "</table>\n",
       "</div>"
      ],
      "text/plain": [
       "                           image_id rad_id  class_name  x_min  y_min  x_max  \\\n",
       "0  000434271f63a053c4128a0ba6352c7f     R2  No finding    NaN    NaN    NaN   \n",
       "1  000434271f63a053c4128a0ba6352c7f     R3  No finding    NaN    NaN    NaN   \n",
       "2  000434271f63a053c4128a0ba6352c7f     R6  No finding    NaN    NaN    NaN   \n",
       "3  00053190460d56c53cc3e57321387478    R11  No finding    NaN    NaN    NaN   \n",
       "4  00053190460d56c53cc3e57321387478     R2  No finding    NaN    NaN    NaN   \n",
       "\n",
       "   y_max  \n",
       "0    NaN  \n",
       "1    NaN  \n",
       "2    NaN  \n",
       "3    NaN  \n",
       "4    NaN  "
      ]
     },
     "execution_count": 68,
     "metadata": {},
     "output_type": "execute_result"
    }
   ],
   "source": [
    "train_df.head()"
   ]
  },
  {
   "attachments": {},
   "cell_type": "markdown",
   "metadata": {},
   "source": [
    "## Split train/val"
   ]
  },
  {
   "cell_type": "code",
   "execution_count": 1,
   "metadata": {},
   "outputs": [],
   "source": [
    "import pandas as pd\n",
    "import os"
   ]
  },
  {
   "cell_type": "code",
   "execution_count": 2,
   "metadata": {},
   "outputs": [
    {
     "data": {
      "text/html": [
       "<div>\n",
       "<style scoped>\n",
       "    .dataframe tbody tr th:only-of-type {\n",
       "        vertical-align: middle;\n",
       "    }\n",
       "\n",
       "    .dataframe tbody tr th {\n",
       "        vertical-align: top;\n",
       "    }\n",
       "\n",
       "    .dataframe thead th {\n",
       "        text-align: right;\n",
       "    }\n",
       "</style>\n",
       "<table border=\"1\" class=\"dataframe\">\n",
       "  <thead>\n",
       "    <tr style=\"text-align: right;\">\n",
       "      <th></th>\n",
       "      <th>image_id</th>\n",
       "      <th>class_idx</th>\n",
       "      <th>x_min</th>\n",
       "      <th>y_min</th>\n",
       "      <th>x_max</th>\n",
       "      <th>y_max</th>\n",
       "      <th>original_width</th>\n",
       "      <th>original_height</th>\n",
       "      <th>area</th>\n",
       "      <th>path</th>\n",
       "      <th>class_name</th>\n",
       "      <th>png_path</th>\n",
       "      <th>class</th>\n",
       "      <th>class_id</th>\n",
       "    </tr>\n",
       "  </thead>\n",
       "  <tbody>\n",
       "    <tr>\n",
       "      <th>0</th>\n",
       "      <td>0005e8e3701dfb1dd93d53e2ff537b6e</td>\n",
       "      <td>5.0</td>\n",
       "      <td>155.411997</td>\n",
       "      <td>94.629832</td>\n",
       "      <td>199.628337</td>\n",
       "      <td>149.401499</td>\n",
       "      <td>3072.0</td>\n",
       "      <td>3072.0</td>\n",
       "      <td>2421.802623</td>\n",
       "      <td>/share/ssddata/vindr_pt_512x512/train/0005e8e3...</td>\n",
       "      <td>Consolidation</td>\n",
       "      <td>NaN</td>\n",
       "      <td>NaN</td>\n",
       "      <td>NaN</td>\n",
       "    </tr>\n",
       "    <tr>\n",
       "      <th>1</th>\n",
       "      <td>0005e8e3701dfb1dd93d53e2ff537b6e</td>\n",
       "      <td>11.0</td>\n",
       "      <td>150.159495</td>\n",
       "      <td>97.968170</td>\n",
       "      <td>200.893331</td>\n",
       "      <td>148.118500</td>\n",
       "      <td>3072.0</td>\n",
       "      <td>3072.0</td>\n",
       "      <td>2544.318590</td>\n",
       "      <td>/share/ssddata/vindr_pt_512x512/train/0005e8e3...</td>\n",
       "      <td>Lung Opacity</td>\n",
       "      <td>NaN</td>\n",
       "      <td>NaN</td>\n",
       "      <td>NaN</td>\n",
       "    </tr>\n",
       "    <tr>\n",
       "      <th>2</th>\n",
       "      <td>0005e8e3701dfb1dd93d53e2ff537b6e</td>\n",
       "      <td>11.0</td>\n",
       "      <td>150.159495</td>\n",
       "      <td>97.968170</td>\n",
       "      <td>200.893331</td>\n",
       "      <td>148.118500</td>\n",
       "      <td>3072.0</td>\n",
       "      <td>3072.0</td>\n",
       "      <td>2544.318590</td>\n",
       "      <td>/share/ssddata/vindr_pt_512x512/train/0005e8e3...</td>\n",
       "      <td>Lung Opacity</td>\n",
       "      <td>NaN</td>\n",
       "      <td>NaN</td>\n",
       "      <td>NaN</td>\n",
       "    </tr>\n",
       "    <tr>\n",
       "      <th>3</th>\n",
       "      <td>0007d316f756b3fa0baea2ff514ce945</td>\n",
       "      <td>3.0</td>\n",
       "      <td>200.453328</td>\n",
       "      <td>324.931554</td>\n",
       "      <td>406.593343</td>\n",
       "      <td>362.136892</td>\n",
       "      <td>2304.0</td>\n",
       "      <td>2880.0</td>\n",
       "      <td>7669.509032</td>\n",
       "      <td>/share/ssddata/vindr_pt_512x512/train/0007d316...</td>\n",
       "      <td>Cardiomegaly</td>\n",
       "      <td>NaN</td>\n",
       "      <td>NaN</td>\n",
       "      <td>NaN</td>\n",
       "    </tr>\n",
       "    <tr>\n",
       "      <th>4</th>\n",
       "      <td>000d68e42b71d3eac10ccc077aba07c1</td>\n",
       "      <td>11.0</td>\n",
       "      <td>37.997335</td>\n",
       "      <td>85.052089</td>\n",
       "      <td>452.102214</td>\n",
       "      <td>263.532444</td>\n",
       "      <td>2304.0</td>\n",
       "      <td>2880.0</td>\n",
       "      <td>73909.585690</td>\n",
       "      <td>/share/ssddata/vindr_pt_512x512/train/000d68e4...</td>\n",
       "      <td>Lung Opacity</td>\n",
       "      <td>NaN</td>\n",
       "      <td>NaN</td>\n",
       "      <td>NaN</td>\n",
       "    </tr>\n",
       "  </tbody>\n",
       "</table>\n",
       "</div>"
      ],
      "text/plain": [
       "                           image_id  class_idx       x_min       y_min  \\\n",
       "0  0005e8e3701dfb1dd93d53e2ff537b6e        5.0  155.411997   94.629832   \n",
       "1  0005e8e3701dfb1dd93d53e2ff537b6e       11.0  150.159495   97.968170   \n",
       "2  0005e8e3701dfb1dd93d53e2ff537b6e       11.0  150.159495   97.968170   \n",
       "3  0007d316f756b3fa0baea2ff514ce945        3.0  200.453328  324.931554   \n",
       "4  000d68e42b71d3eac10ccc077aba07c1       11.0   37.997335   85.052089   \n",
       "\n",
       "        x_max       y_max  original_width  original_height          area  \\\n",
       "0  199.628337  149.401499          3072.0           3072.0   2421.802623   \n",
       "1  200.893331  148.118500          3072.0           3072.0   2544.318590   \n",
       "2  200.893331  148.118500          3072.0           3072.0   2544.318590   \n",
       "3  406.593343  362.136892          2304.0           2880.0   7669.509032   \n",
       "4  452.102214  263.532444          2304.0           2880.0  73909.585690   \n",
       "\n",
       "                                                path     class_name png_path  \\\n",
       "0  /share/ssddata/vindr_pt_512x512/train/0005e8e3...  Consolidation      NaN   \n",
       "1  /share/ssddata/vindr_pt_512x512/train/0005e8e3...   Lung Opacity      NaN   \n",
       "2  /share/ssddata/vindr_pt_512x512/train/0005e8e3...   Lung Opacity      NaN   \n",
       "3  /share/ssddata/vindr_pt_512x512/train/0007d316...   Cardiomegaly      NaN   \n",
       "4  /share/ssddata/vindr_pt_512x512/train/000d68e4...   Lung Opacity      NaN   \n",
       "\n",
       "  class  class_id  \n",
       "0   NaN       NaN  \n",
       "1   NaN       NaN  \n",
       "2   NaN       NaN  \n",
       "3   NaN       NaN  \n",
       "4   NaN       NaN  "
      ]
     },
     "execution_count": 2,
     "metadata": {},
     "output_type": "execute_result"
    }
   ],
   "source": [
    "csv_path = \"./vindr/annotations/vindr_rsna\"\n",
    "df = pd.read_csv(os.path.join(csv_path, \"train.csv\"))\n",
    "df.head()"
   ]
  },
  {
   "cell_type": "code",
   "execution_count": 3,
   "metadata": {},
   "outputs": [],
   "source": [
    "import random \n",
    "random.seed(23)"
   ]
  },
  {
   "cell_type": "code",
   "execution_count": 4,
   "metadata": {},
   "outputs": [
    {
     "data": {
      "text/plain": [
       "(29600, 1000, 28600)"
      ]
     },
     "execution_count": 4,
     "metadata": {},
     "output_type": "execute_result"
    }
   ],
   "source": [
    "all_imgs = df['image_id'].unique().tolist()\n",
    "val_imgs = random.sample(all_imgs, 1000)\n",
    "train_imgs = [i for i in all_imgs if i not in val_imgs]\n",
    "\n",
    "len(all_imgs), len(val_imgs), len(train_imgs)"
   ]
  },
  {
   "cell_type": "code",
   "execution_count": 5,
   "metadata": {},
   "outputs": [],
   "source": [
    "train_df = df[df['image_id'].isin(train_imgs)]\n",
    "val_df = df[df['image_id'].isin(val_imgs)]"
   ]
  },
  {
   "cell_type": "code",
   "execution_count": 6,
   "metadata": {},
   "outputs": [],
   "source": [
    "train_df.to_csv(os.path.join(csv_path, \"train.csv\"), index=False)\n",
    "val_df.to_csv(os.path.join(csv_path, \"val.csv\"), index=False)"
   ]
  }
 ],
 "metadata": {
  "kernelspec": {
   "display_name": "Python 3",
   "language": "python",
   "name": "python3"
  },
  "language_info": {
   "codemirror_mode": {
    "name": "ipython",
    "version": 3
   },
   "file_extension": ".py",
   "mimetype": "text/x-python",
   "name": "python",
   "nbconvert_exporter": "python",
   "pygments_lexer": "ipython3",
   "version": "3.8.5"
  },
  "orig_nbformat": 4
 },
 "nbformat": 4,
 "nbformat_minor": 2
}

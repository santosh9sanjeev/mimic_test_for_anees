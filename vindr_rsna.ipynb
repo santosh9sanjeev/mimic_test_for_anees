{
 "cells": [
  {
   "cell_type": "code",
   "execution_count": 1,
   "metadata": {},
   "outputs": [],
   "source": [
    "import pandas as pd\n",
    "import os\n",
    "import matplotlib.pyplot as plt"
   ]
  },
  {
   "attachments": {},
   "cell_type": "markdown",
   "metadata": {},
   "source": [
    "## New original CSVs with 22 classes"
   ]
  },
  {
   "cell_type": "code",
   "execution_count": 18,
   "metadata": {},
   "outputs": [
    {
     "data": {
      "text/html": [
       "<div>\n",
       "<style scoped>\n",
       "    .dataframe tbody tr th:only-of-type {\n",
       "        vertical-align: middle;\n",
       "    }\n",
       "\n",
       "    .dataframe tbody tr th {\n",
       "        vertical-align: top;\n",
       "    }\n",
       "\n",
       "    .dataframe thead th {\n",
       "        text-align: right;\n",
       "    }\n",
       "</style>\n",
       "<table border=\"1\" class=\"dataframe\">\n",
       "  <thead>\n",
       "    <tr style=\"text-align: right;\">\n",
       "      <th></th>\n",
       "      <th>image_id</th>\n",
       "      <th>level_1</th>\n",
       "      <th>x_min</th>\n",
       "      <th>y_min</th>\n",
       "      <th>x_max</th>\n",
       "      <th>y_max</th>\n",
       "      <th>area</th>\n",
       "      <th>path</th>\n",
       "      <th>class_name</th>\n",
       "      <th>class_id</th>\n",
       "    </tr>\n",
       "  </thead>\n",
       "  <tbody>\n",
       "    <tr>\n",
       "      <th>0</th>\n",
       "      <td>000434271f63a053c4128a0ba6352c7f</td>\n",
       "      <td>0</td>\n",
       "      <td>NaN</td>\n",
       "      <td>NaN</td>\n",
       "      <td>NaN</td>\n",
       "      <td>NaN</td>\n",
       "      <td>NaN</td>\n",
       "      <td>/share/nvmedata/vinbigdata-chest-xray-resized-...</td>\n",
       "      <td>No Finding</td>\n",
       "      <td>14</td>\n",
       "    </tr>\n",
       "    <tr>\n",
       "      <th>1</th>\n",
       "      <td>0004cfab-14fd-4e49-80ba-63a80b6bddd6</td>\n",
       "      <td>0</td>\n",
       "      <td>NaN</td>\n",
       "      <td>NaN</td>\n",
       "      <td>NaN</td>\n",
       "      <td>NaN</td>\n",
       "      <td>NaN</td>\n",
       "      <td>/share/nvmedata/RSNA-Pneunomia-Detection-PT/st...</td>\n",
       "      <td>No Finding</td>\n",
       "      <td>14</td>\n",
       "    </tr>\n",
       "    <tr>\n",
       "      <th>2</th>\n",
       "      <td>00053190460d56c53cc3e57321387478</td>\n",
       "      <td>0</td>\n",
       "      <td>NaN</td>\n",
       "      <td>NaN</td>\n",
       "      <td>NaN</td>\n",
       "      <td>NaN</td>\n",
       "      <td>NaN</td>\n",
       "      <td>/share/nvmedata/vinbigdata-chest-xray-resized-...</td>\n",
       "      <td>No Finding</td>\n",
       "      <td>14</td>\n",
       "    </tr>\n",
       "    <tr>\n",
       "      <th>3</th>\n",
       "      <td>0005e8e3701dfb1dd93d53e2ff537b6e</td>\n",
       "      <td>0</td>\n",
       "      <td>155.333333</td>\n",
       "      <td>94.5</td>\n",
       "      <td>199.5</td>\n",
       "      <td>149.333333</td>\n",
       "      <td>2550.138889</td>\n",
       "      <td>/share/nvmedata/vinbigdata-chest-xray-resized-...</td>\n",
       "      <td>Lung Opacity</td>\n",
       "      <td>7</td>\n",
       "    </tr>\n",
       "    <tr>\n",
       "      <th>4</th>\n",
       "      <td>0006e0a85696f6bb578e84fafa9a5607</td>\n",
       "      <td>0</td>\n",
       "      <td>NaN</td>\n",
       "      <td>NaN</td>\n",
       "      <td>NaN</td>\n",
       "      <td>NaN</td>\n",
       "      <td>NaN</td>\n",
       "      <td>/share/nvmedata/vinbigdata-chest-xray-resized-...</td>\n",
       "      <td>No Finding</td>\n",
       "      <td>14</td>\n",
       "    </tr>\n",
       "  </tbody>\n",
       "</table>\n",
       "</div>"
      ],
      "text/plain": [
       "                               image_id  level_1       x_min  y_min  x_max  \\\n",
       "0      000434271f63a053c4128a0ba6352c7f        0         NaN    NaN    NaN   \n",
       "1  0004cfab-14fd-4e49-80ba-63a80b6bddd6        0         NaN    NaN    NaN   \n",
       "2      00053190460d56c53cc3e57321387478        0         NaN    NaN    NaN   \n",
       "3      0005e8e3701dfb1dd93d53e2ff537b6e        0  155.333333   94.5  199.5   \n",
       "4      0006e0a85696f6bb578e84fafa9a5607        0         NaN    NaN    NaN   \n",
       "\n",
       "        y_max         area                                               path  \\\n",
       "0         NaN          NaN  /share/nvmedata/vinbigdata-chest-xray-resized-...   \n",
       "1         NaN          NaN  /share/nvmedata/RSNA-Pneunomia-Detection-PT/st...   \n",
       "2         NaN          NaN  /share/nvmedata/vinbigdata-chest-xray-resized-...   \n",
       "3  149.333333  2550.138889  /share/nvmedata/vinbigdata-chest-xray-resized-...   \n",
       "4         NaN          NaN  /share/nvmedata/vinbigdata-chest-xray-resized-...   \n",
       "\n",
       "     class_name  class_id  \n",
       "0    No Finding        14  \n",
       "1    No Finding        14  \n",
       "2    No Finding        14  \n",
       "3  Lung Opacity         7  \n",
       "4    No Finding        14  "
      ]
     },
     "execution_count": 18,
     "metadata": {},
     "output_type": "execute_result"
    }
   ],
   "source": [
    "vindr_combined_df = pd.read_csv(\"/share/nvmedata/vinbigdata-chest-xray-resized-pt-512x512/rsna_vindr_cnet_csv/train.csv\")\n",
    "vindr_combined_df.head()"
   ]
  },
  {
   "cell_type": "code",
   "execution_count": 2,
   "metadata": {},
   "outputs": [],
   "source": [
    "vindr_train_df = pd.read_csv(\"/share/nvmedata/vinbigdata-chest-xray-resized-pt-512x512/new_csv/train.csv\")\n",
    "# vindr_test_df = pd.read_csv(\"/share/nvmedata/vinbigdata-chest-xray-resized-pt-512x512/new_csv/test.csv\")\n",
    "vindr_val_df = pd.read_csv(\"/share/nvmedata/vinbigdata-chest-xray-resized-pt-512x512/new_csv/val.csv\")"
   ]
  },
  {
   "cell_type": "code",
   "execution_count": 3,
   "metadata": {},
   "outputs": [],
   "source": [
    "# vindr_original_df = "
   ]
  },
  {
   "cell_type": "code",
   "execution_count": 5,
   "metadata": {},
   "outputs": [],
   "source": [
    "\n",
    "vindr_combined_df = pd.read_csv('/share/nvmedata/vinbigdata-chest-xray-resized-pt-512x512/original_csv/train.csv')\n",
    "# vindr_combined_df = pd.concat([vindr_train_df, vindr_test_df, vindr_val_df])\n",
    "# vindr_combined_df = pd.concat([vindr_train_df, vindr_val_df])\n",
    "# vindr_combined_df = pd.read_csv(\"/share/nvmedata/vinbigdata-chest-xray-resized-pt-512x512/archived/vindr_rsna_df.csv\")"
   ]
  },
  {
   "cell_type": "code",
   "execution_count": 19,
   "metadata": {},
   "outputs": [
    {
     "data": {
      "text/plain": [
       "40509"
      ]
     },
     "execution_count": 19,
     "metadata": {},
     "output_type": "execute_result"
    }
   ],
   "source": [
    "vindr_combined_df['image_id'].nunique()"
   ]
  },
  {
   "cell_type": "code",
   "execution_count": 8,
   "metadata": {},
   "outputs": [],
   "source": [
    "# original_csv_dir = \"/share/nvmedata/vinbigdata-chest-xray-resized-pt-512x512/original_csv\"\n",
    "# vindr_combined_df = pd.read_csv(os.path.join(original_csv_dir, \"train.csv\"))\n",
    "# vindr_combined_df['class_name'].replace({'No finding': 'No Finding'}, inplace=True)\n",
    "# # vindr_val_df = pd.read_csv(os.path.join(original_csv_dir, \"test.csv\"))\n",
    "# # vindr_val_df['class_name'].replace({'No finding': 'No Finding'}, inplace=True)"
   ]
  },
  {
   "cell_type": "code",
   "execution_count": 20,
   "metadata": {},
   "outputs": [
    {
     "name": "stdout",
     "output_type": "stream",
     "text": [
      "['cardiomegaly', 'atelectasis', 'lung opacity', 'pneumonia', 'pleural effusion', 'no finding', 'pneumothorax', 'consolidation']\n"
     ]
    }
   ],
   "source": [
    "mimic_df = pd.read_csv(\"/home/aneeshashmi/generative/vindr_gen/pre_processed_csv/mimic/mimic_pt.csv\")\n",
    "mimic_cls = [i.lower() for i in mimic_df.columns[13:-2].tolist()]\n",
    "\n",
    "vindr_cls = [i.lower() for i in vindr_combined_df['class_name'].unique().tolist()]\n",
    "\n",
    "common_classes = list(set(mimic_cls).intersection(set(vindr_cls)))\n",
    "len(common_classes)\n",
    "print(common_classes)"
   ]
  },
  {
   "cell_type": "code",
   "execution_count": 21,
   "metadata": {},
   "outputs": [
    {
     "data": {
      "text/plain": [
       "(45451, 10)"
      ]
     },
     "execution_count": 21,
     "metadata": {},
     "output_type": "execute_result"
    }
   ],
   "source": [
    "vindr_combined_df = vindr_combined_df[vindr_combined_df['class_name'].str.lower().isin(common_classes)]\n",
    "vindr_combined_df.shape"
   ]
  },
  {
   "cell_type": "code",
   "execution_count": 22,
   "metadata": {},
   "outputs": [
    {
     "data": {
      "text/html": [
       "<div>\n",
       "<style scoped>\n",
       "    .dataframe tbody tr th:only-of-type {\n",
       "        vertical-align: middle;\n",
       "    }\n",
       "\n",
       "    .dataframe tbody tr th {\n",
       "        vertical-align: top;\n",
       "    }\n",
       "\n",
       "    .dataframe thead th {\n",
       "        text-align: right;\n",
       "    }\n",
       "</style>\n",
       "<table border=\"1\" class=\"dataframe\">\n",
       "  <thead>\n",
       "    <tr style=\"text-align: right;\">\n",
       "      <th></th>\n",
       "      <th>image_id</th>\n",
       "      <th>level_1</th>\n",
       "      <th>x_min</th>\n",
       "      <th>y_min</th>\n",
       "      <th>x_max</th>\n",
       "      <th>y_max</th>\n",
       "      <th>area</th>\n",
       "      <th>path</th>\n",
       "      <th>class_name</th>\n",
       "      <th>class_id</th>\n",
       "    </tr>\n",
       "  </thead>\n",
       "  <tbody>\n",
       "    <tr>\n",
       "      <th>0</th>\n",
       "      <td>000434271f63a053c4128a0ba6352c7f</td>\n",
       "      <td>0</td>\n",
       "      <td>NaN</td>\n",
       "      <td>NaN</td>\n",
       "      <td>NaN</td>\n",
       "      <td>NaN</td>\n",
       "      <td>NaN</td>\n",
       "      <td>/share/nvmedata/vinbigdata-chest-xray-resized-...</td>\n",
       "      <td>No Finding</td>\n",
       "      <td>14</td>\n",
       "    </tr>\n",
       "    <tr>\n",
       "      <th>1</th>\n",
       "      <td>0004cfab-14fd-4e49-80ba-63a80b6bddd6</td>\n",
       "      <td>0</td>\n",
       "      <td>NaN</td>\n",
       "      <td>NaN</td>\n",
       "      <td>NaN</td>\n",
       "      <td>NaN</td>\n",
       "      <td>NaN</td>\n",
       "      <td>/share/nvmedata/RSNA-Pneunomia-Detection-PT/st...</td>\n",
       "      <td>No Finding</td>\n",
       "      <td>14</td>\n",
       "    </tr>\n",
       "    <tr>\n",
       "      <th>2</th>\n",
       "      <td>00053190460d56c53cc3e57321387478</td>\n",
       "      <td>0</td>\n",
       "      <td>NaN</td>\n",
       "      <td>NaN</td>\n",
       "      <td>NaN</td>\n",
       "      <td>NaN</td>\n",
       "      <td>NaN</td>\n",
       "      <td>/share/nvmedata/vinbigdata-chest-xray-resized-...</td>\n",
       "      <td>No Finding</td>\n",
       "      <td>14</td>\n",
       "    </tr>\n",
       "    <tr>\n",
       "      <th>3</th>\n",
       "      <td>0005e8e3701dfb1dd93d53e2ff537b6e</td>\n",
       "      <td>0</td>\n",
       "      <td>155.333333</td>\n",
       "      <td>94.5</td>\n",
       "      <td>199.5</td>\n",
       "      <td>149.333333</td>\n",
       "      <td>2550.138889</td>\n",
       "      <td>/share/nvmedata/vinbigdata-chest-xray-resized-...</td>\n",
       "      <td>Lung Opacity</td>\n",
       "      <td>7</td>\n",
       "    </tr>\n",
       "    <tr>\n",
       "      <th>4</th>\n",
       "      <td>0006e0a85696f6bb578e84fafa9a5607</td>\n",
       "      <td>0</td>\n",
       "      <td>NaN</td>\n",
       "      <td>NaN</td>\n",
       "      <td>NaN</td>\n",
       "      <td>NaN</td>\n",
       "      <td>NaN</td>\n",
       "      <td>/share/nvmedata/vinbigdata-chest-xray-resized-...</td>\n",
       "      <td>No Finding</td>\n",
       "      <td>14</td>\n",
       "    </tr>\n",
       "  </tbody>\n",
       "</table>\n",
       "</div>"
      ],
      "text/plain": [
       "                               image_id  level_1       x_min  y_min  x_max  \\\n",
       "0      000434271f63a053c4128a0ba6352c7f        0         NaN    NaN    NaN   \n",
       "1  0004cfab-14fd-4e49-80ba-63a80b6bddd6        0         NaN    NaN    NaN   \n",
       "2      00053190460d56c53cc3e57321387478        0         NaN    NaN    NaN   \n",
       "3      0005e8e3701dfb1dd93d53e2ff537b6e        0  155.333333   94.5  199.5   \n",
       "4      0006e0a85696f6bb578e84fafa9a5607        0         NaN    NaN    NaN   \n",
       "\n",
       "        y_max         area                                               path  \\\n",
       "0         NaN          NaN  /share/nvmedata/vinbigdata-chest-xray-resized-...   \n",
       "1         NaN          NaN  /share/nvmedata/RSNA-Pneunomia-Detection-PT/st...   \n",
       "2         NaN          NaN  /share/nvmedata/vinbigdata-chest-xray-resized-...   \n",
       "3  149.333333  2550.138889  /share/nvmedata/vinbigdata-chest-xray-resized-...   \n",
       "4         NaN          NaN  /share/nvmedata/vinbigdata-chest-xray-resized-...   \n",
       "\n",
       "     class_name  class_id  \n",
       "0    No Finding        14  \n",
       "1    No Finding        14  \n",
       "2    No Finding        14  \n",
       "3  Lung Opacity         7  \n",
       "4    No Finding        14  "
      ]
     },
     "execution_count": 22,
     "metadata": {},
     "output_type": "execute_result"
    }
   ],
   "source": [
    "vindr_combined_df.head()"
   ]
  },
  {
   "cell_type": "code",
   "execution_count": 27,
   "metadata": {},
   "outputs": [
    {
     "name": "stdout",
     "output_type": "stream",
     "text": [
      "10 45451\n"
     ]
    }
   ],
   "source": [
    "# vindr_combined_df_14 = vindr_combined_df[vindr_combined_df['class_id'] == 14]\n",
    "\n",
    "import json\n",
    "with open('./vindr_h_w.json') as f:\n",
    "    vindr_h_w = json.load(f)\n",
    "vindr_14_imgs = vindr_combined_df['image_id'].unique()\n",
    "\n",
    "not_found = []\n",
    "for i in vindr_combined_df:\n",
    "    if i not in vindr_h_w.keys():\n",
    "        not_found.append(i)\n",
    "print(len(not_found), len(vindr_combined_df))"
   ]
  },
  {
   "cell_type": "code",
   "execution_count": 74,
   "metadata": {},
   "outputs": [
    {
     "data": {
      "text/plain": [
       "(1000, 1000, 12999)"
      ]
     },
     "execution_count": 74,
     "metadata": {},
     "output_type": "execute_result"
    }
   ],
   "source": [
    "# Split df into train and val\n",
    "\n",
    "val_imgs = [i[:-3] for i in os.listdir(\"/share/nvmedata/vinbigdata-chest-xray-resized-pt-512x512/val\") if i.endswith(\".pt\")]\n",
    "val_imgs = [i for i in val_imgs if \"seg\" not in i]\n",
    "\n",
    "test_imgs = [i[:-3] for i in os.listdir(\"/share/nvmedata/vinbigdata-chest-xray-resized-pt-512x512/test\") if i.endswith(\".pt\")]\n",
    "test_imgs = [i for i in test_imgs if \"seg\" not in i]\n",
    "\n",
    "train_imgs = [i[:-3] for i in os.listdir(\"/share/nvmedata/vinbigdata-chest-xray-resized-pt-512x512/train\") if i.endswith(\".pt\")]\n",
    "train_imgs = [i for i in train_imgs if \"seg\" not in i]\n",
    "\n",
    "len(val_imgs), len(test_imgs), len(train_imgs)"
   ]
  },
  {
   "cell_type": "code",
   "execution_count": 75,
   "metadata": {},
   "outputs": [
    {
     "name": "stderr",
     "output_type": "stream",
     "text": [
      "/tmp/ipykernel_269084/1926156825.py:2: SettingWithCopyWarning: \n",
      "A value is trying to be set on a copy of a slice from a DataFrame.\n",
      "Try using .loc[row_indexer,col_indexer] = value instead\n",
      "\n",
      "See the caveats in the documentation: https://pandas.pydata.org/pandas-docs/stable/user_guide/indexing.html#returning-a-view-versus-a-copy\n",
      "  vindr_train_df['path'] = vindr_train_df['image_id'].apply(lambda x: os.path.join(\"/share/nvmedata/vinbigdata-chest-xray-resized-pt-512x512/train\", x + \".pt\"))\n",
      "/tmp/ipykernel_269084/1926156825.py:5: SettingWithCopyWarning: \n",
      "A value is trying to be set on a copy of a slice from a DataFrame.\n",
      "Try using .loc[row_indexer,col_indexer] = value instead\n",
      "\n",
      "See the caveats in the documentation: https://pandas.pydata.org/pandas-docs/stable/user_guide/indexing.html#returning-a-view-versus-a-copy\n",
      "  vindr_val_df['path'] = vindr_val_df['image_id'].apply(lambda x: os.path.join(\"/share/nvmedata/vinbigdata-chest-xray-resized-pt-512x512/test\", x + \".pt\"))\n",
      "/tmp/ipykernel_269084/1926156825.py:8: SettingWithCopyWarning: \n",
      "A value is trying to be set on a copy of a slice from a DataFrame.\n",
      "Try using .loc[row_indexer,col_indexer] = value instead\n",
      "\n",
      "See the caveats in the documentation: https://pandas.pydata.org/pandas-docs/stable/user_guide/indexing.html#returning-a-view-versus-a-copy\n",
      "  vindr_test_df['path'] = vindr_test_df['image_id'].apply(lambda x: os.path.join(\"/share/nvmedata/vinbigdata-chest-xray-resized-pt-512x512/val\", x + \".pt\"))\n"
     ]
    }
   ],
   "source": [
    "vindr_train_df = vindr_combined_df[vindr_combined_df['image_id'].isin(train_imgs)]\n",
    "vindr_train_df['path'] = vindr_train_df['image_id'].apply(lambda x: os.path.join(\"/share/nvmedata/vinbigdata-chest-xray-resized-pt-512x512/train\", x + \".pt\"))\n",
    "\n",
    "vindr_val_df = vindr_combined_df[vindr_combined_df['image_id'].isin(test_imgs)]\n",
    "vindr_val_df['path'] = vindr_val_df['image_id'].apply(lambda x: os.path.join(\"/share/nvmedata/vinbigdata-chest-xray-resized-pt-512x512/test\", x + \".pt\"))\n",
    "\n",
    "vindr_test_df = vindr_combined_df[vindr_combined_df['image_id'].isin(val_imgs)]\n",
    "vindr_test_df['path'] = vindr_test_df['image_id'].apply(lambda x: os.path.join(\"/share/nvmedata/vinbigdata-chest-xray-resized-pt-512x512/val\", x + \".pt\"))\n",
    "\n",
    "vindr_train_df = pd.concat([vindr_train_df, vindr_test_df])"
   ]
  },
  {
   "cell_type": "code",
   "execution_count": 76,
   "metadata": {},
   "outputs": [],
   "source": [
    "# load image and get the original image height and width"
   ]
  },
  {
   "cell_type": "code",
   "execution_count": 77,
   "metadata": {},
   "outputs": [],
   "source": [
    "# get img_size etc from the original csv\n",
    "\n",
    "# /share/nvmedata/vinbigdata-chest-xray-resized-pt-512x512/archived\n",
    "# vindr_train_df = pd.read_csv(\"/share/nvmedata/vinbigdata-chest-xray-resized-pt-512x512/new_csv/train.csv\")\n",
    "# vindr_val_df = pd.read_csv(\"/share/nvmedata/vinbigdata-chest-xray-resized-pt-512x512/new_csv/val.csv\")\n",
    "# vindr_prev_test_df = pd.read_csv(\"/share/nvmedata/vinbigdata-chest-xray-resized-pt-512x512/rsna_vindr_csv/test.csv\")\n",
    "\n",
    "# vindr_train_df.head()\n"
   ]
  },
  {
   "cell_type": "code",
   "execution_count": 29,
   "metadata": {},
   "outputs": [],
   "source": [
    "image_h_w = {}\n",
    "def get_height_width(row):\n",
    "    if row['class_id'] == 14:\n",
    "        return row\n",
    "    if row['image_id'] not in image_h_w:\n",
    "        image_h_w[row['image_id']] = (row['img_height'], row['img_width'])\n",
    "    return row\n",
    "\n",
    "vindr_combined_df.apply(get_height_width, axis=1);\n",
    "\n",
    "import numpy as np\n",
    "print([np.isnan(i[0]) for i in image_h_w.values()].count(True), len(image_h_w))\n",
    "dropped_imgs = [k for k, v in image_h_w.items() if np.isnan(v[0])]\n",
    "# vindr_train_df.drop(vindr_train_df[vindr_train_df['image_id'].isin(dropped_imgs)].index, inplace=True)"
   ]
  },
  {
   "cell_type": "code",
   "execution_count": 85,
   "metadata": {},
   "outputs": [
    {
     "name": "stdout",
     "output_type": "stream",
     "text": [
      "Loading from json\n",
      "9531\n",
      "9531\n"
     ]
    }
   ],
   "source": [
    "import json\n",
    "\n",
    "if os.path.isfile(\"./vindr_h_w.json\"):\n",
    "    print(f'Loading from json')\n",
    "    print(len(image_h_w))\n",
    "    with open(\"./vindr_h_w.json\", \"r\") as f:\n",
    "        image_h_w.update(json.load(f))\n",
    "    print(len(image_h_w))"
   ]
  },
  {
   "cell_type": "code",
   "execution_count": 80,
   "metadata": {},
   "outputs": [],
   "source": [
    "with open(\"./vindr_h_w.json\", \"w\") as f:\n",
    "    json.dump(image_h_w, f)"
   ]
  },
  {
   "cell_type": "code",
   "execution_count": 81,
   "metadata": {},
   "outputs": [
    {
     "data": {
      "text/html": [
       "<div>\n",
       "<style scoped>\n",
       "    .dataframe tbody tr th:only-of-type {\n",
       "        vertical-align: middle;\n",
       "    }\n",
       "\n",
       "    .dataframe tbody tr th {\n",
       "        vertical-align: top;\n",
       "    }\n",
       "\n",
       "    .dataframe thead th {\n",
       "        text-align: right;\n",
       "    }\n",
       "</style>\n",
       "<table border=\"1\" class=\"dataframe\">\n",
       "  <thead>\n",
       "    <tr style=\"text-align: right;\">\n",
       "      <th></th>\n",
       "      <th>Unnamed: 0</th>\n",
       "      <th>index</th>\n",
       "      <th>image_id</th>\n",
       "      <th>class_name</th>\n",
       "      <th>class_id</th>\n",
       "      <th>rad_id</th>\n",
       "      <th>x_min</th>\n",
       "      <th>y_min</th>\n",
       "      <th>x_max</th>\n",
       "      <th>y_max</th>\n",
       "      <th>...</th>\n",
       "      <th>img_width</th>\n",
       "      <th>x_min_orig</th>\n",
       "      <th>y_min_orig</th>\n",
       "      <th>x_max_orig</th>\n",
       "      <th>y_max_orig</th>\n",
       "      <th>area</th>\n",
       "      <th>path</th>\n",
       "      <th>bbox_width</th>\n",
       "      <th>bbox_height</th>\n",
       "      <th>class_name_prev</th>\n",
       "    </tr>\n",
       "  </thead>\n",
       "  <tbody>\n",
       "    <tr>\n",
       "      <th>2</th>\n",
       "      <td>2</td>\n",
       "      <td>2.0</td>\n",
       "      <td>9a5094b2563a1ef3ff50dc5c7ff71345</td>\n",
       "      <td>Cardiomegaly</td>\n",
       "      <td>3</td>\n",
       "      <td>R10</td>\n",
       "      <td>170.092308</td>\n",
       "      <td>301.369863</td>\n",
       "      <td>406.892308</td>\n",
       "      <td>401.315068</td>\n",
       "      <td>...</td>\n",
       "      <td>2080.0</td>\n",
       "      <td>691.0</td>\n",
       "      <td>1375.0</td>\n",
       "      <td>1653.0</td>\n",
       "      <td>1831.0</td>\n",
       "      <td>23667.024658</td>\n",
       "      <td>/share/nvmedata/vinbigdata-chest-xray-resized-...</td>\n",
       "      <td>NaN</td>\n",
       "      <td>NaN</td>\n",
       "      <td>NaN</td>\n",
       "    </tr>\n",
       "    <tr>\n",
       "      <th>3539</th>\n",
       "      <td>3539</td>\n",
       "      <td>5517.0</td>\n",
       "      <td>9a5094b2563a1ef3ff50dc5c7ff71345</td>\n",
       "      <td>Pleural effusion</td>\n",
       "      <td>10</td>\n",
       "      <td>R9</td>\n",
       "      <td>440.369231</td>\n",
       "      <td>378.958904</td>\n",
       "      <td>461.538462</td>\n",
       "      <td>436.602740</td>\n",
       "      <td>...</td>\n",
       "      <td>2080.0</td>\n",
       "      <td>1789.0</td>\n",
       "      <td>1729.0</td>\n",
       "      <td>1875.0</td>\n",
       "      <td>1992.0</td>\n",
       "      <td>1220.275659</td>\n",
       "      <td>/share/nvmedata/vinbigdata-chest-xray-resized-...</td>\n",
       "      <td>NaN</td>\n",
       "      <td>NaN</td>\n",
       "      <td>NaN</td>\n",
       "    </tr>\n",
       "    <tr>\n",
       "      <th>16688</th>\n",
       "      <td>16688</td>\n",
       "      <td>26165.0</td>\n",
       "      <td>9a5094b2563a1ef3ff50dc5c7ff71345</td>\n",
       "      <td>Cardiomegaly</td>\n",
       "      <td>3</td>\n",
       "      <td>R9</td>\n",
       "      <td>170.338462</td>\n",
       "      <td>301.369863</td>\n",
       "      <td>407.876923</td>\n",
       "      <td>394.301370</td>\n",
       "      <td>...</td>\n",
       "      <td>2080.0</td>\n",
       "      <td>692.0</td>\n",
       "      <td>1375.0</td>\n",
       "      <td>1657.0</td>\n",
       "      <td>1799.0</td>\n",
       "      <td>22074.807165</td>\n",
       "      <td>/share/nvmedata/vinbigdata-chest-xray-resized-...</td>\n",
       "      <td>NaN</td>\n",
       "      <td>NaN</td>\n",
       "      <td>NaN</td>\n",
       "    </tr>\n",
       "    <tr>\n",
       "      <th>27216</th>\n",
       "      <td>27216</td>\n",
       "      <td>42709.0</td>\n",
       "      <td>9a5094b2563a1ef3ff50dc5c7ff71345</td>\n",
       "      <td>Cardiomegaly</td>\n",
       "      <td>3</td>\n",
       "      <td>R8</td>\n",
       "      <td>169.600000</td>\n",
       "      <td>287.780822</td>\n",
       "      <td>410.092308</td>\n",
       "      <td>386.410959</td>\n",
       "      <td>...</td>\n",
       "      <td>2080.0</td>\n",
       "      <td>689.0</td>\n",
       "      <td>1313.0</td>\n",
       "      <td>1666.0</td>\n",
       "      <td>1763.0</td>\n",
       "      <td>23719.789252</td>\n",
       "      <td>/share/nvmedata/vinbigdata-chest-xray-resized-...</td>\n",
       "      <td>NaN</td>\n",
       "      <td>NaN</td>\n",
       "      <td>NaN</td>\n",
       "    </tr>\n",
       "  </tbody>\n",
       "</table>\n",
       "<p>4 rows × 21 columns</p>\n",
       "</div>"
      ],
      "text/plain": [
       "       Unnamed: 0    index                          image_id  \\\n",
       "2               2      2.0  9a5094b2563a1ef3ff50dc5c7ff71345   \n",
       "3539         3539   5517.0  9a5094b2563a1ef3ff50dc5c7ff71345   \n",
       "16688       16688  26165.0  9a5094b2563a1ef3ff50dc5c7ff71345   \n",
       "27216       27216  42709.0  9a5094b2563a1ef3ff50dc5c7ff71345   \n",
       "\n",
       "             class_name  class_id rad_id       x_min       y_min       x_max  \\\n",
       "2          Cardiomegaly         3    R10  170.092308  301.369863  406.892308   \n",
       "3539   Pleural effusion        10     R9  440.369231  378.958904  461.538462   \n",
       "16688      Cardiomegaly         3     R9  170.338462  301.369863  407.876923   \n",
       "27216      Cardiomegaly         3     R8  169.600000  287.780822  410.092308   \n",
       "\n",
       "            y_max  ...  img_width  x_min_orig  y_min_orig  x_max_orig  \\\n",
       "2      401.315068  ...     2080.0       691.0      1375.0      1653.0   \n",
       "3539   436.602740  ...     2080.0      1789.0      1729.0      1875.0   \n",
       "16688  394.301370  ...     2080.0       692.0      1375.0      1657.0   \n",
       "27216  386.410959  ...     2080.0       689.0      1313.0      1666.0   \n",
       "\n",
       "       y_max_orig          area  \\\n",
       "2          1831.0  23667.024658   \n",
       "3539       1992.0   1220.275659   \n",
       "16688      1799.0  22074.807165   \n",
       "27216      1763.0  23719.789252   \n",
       "\n",
       "                                                    path bbox_width  \\\n",
       "2      /share/nvmedata/vinbigdata-chest-xray-resized-...        NaN   \n",
       "3539   /share/nvmedata/vinbigdata-chest-xray-resized-...        NaN   \n",
       "16688  /share/nvmedata/vinbigdata-chest-xray-resized-...        NaN   \n",
       "27216  /share/nvmedata/vinbigdata-chest-xray-resized-...        NaN   \n",
       "\n",
       "       bbox_height  class_name_prev  \n",
       "2              NaN              NaN  \n",
       "3539           NaN              NaN  \n",
       "16688          NaN              NaN  \n",
       "27216          NaN              NaN  \n",
       "\n",
       "[4 rows x 21 columns]"
      ]
     },
     "execution_count": 81,
     "metadata": {},
     "output_type": "execute_result"
    }
   ],
   "source": [
    "# vindr_prev_combined_df = vindr_prev_combined_df[['image_id', \"\"]]\n",
    "img_id = \"9a5094b2563a1ef3ff50dc5c7ff71345\"\n",
    "vindr_train_df[vindr_train_df['image_id'] == img_id]\n"
   ]
  },
  {
   "cell_type": "code",
   "execution_count": 59,
   "metadata": {},
   "outputs": [
    {
     "data": {
      "text/plain": [
       "<Axes: ylabel='class_name'>"
      ]
     },
     "execution_count": 59,
     "metadata": {},
     "output_type": "execute_result"
    },
    {
     "data": {
      "image/png": "[encoded data removed]",
      "text/plain": [
       "<Figure size 640x480 with 1 Axes>"
      ]
     },
     "metadata": {},
     "output_type": "display_data"
    }
   ],
   "source": [
    "vindr_train_df['class_name'].value_counts().plot(kind='barh')"
   ]
  },
  {
   "cell_type": "code",
   "execution_count": 60,
   "metadata": {},
   "outputs": [
    {
     "data": {
      "text/plain": [
       "<Axes: ylabel='class_name'>"
      ]
     },
     "execution_count": 60,
     "metadata": {},
     "output_type": "execute_result"
    },
    {
     "data": {
      "image/png": "[encoded data removed]",
      "text/plain": [
       "<Figure size 640x480 with 1 Axes>"
      ]
     },
     "metadata": {},
     "output_type": "display_data"
    }
   ],
   "source": [
    "vindr_val_df['class_name'].value_counts().plot(kind='barh')"
   ]
  },
  {
   "cell_type": "code",
   "execution_count": 61,
   "metadata": {},
   "outputs": [
    {
     "data": {
      "text/plain": [
       "(13180, 945)"
      ]
     },
     "execution_count": 61,
     "metadata": {},
     "output_type": "execute_result"
    }
   ],
   "source": [
    "vindr_train_df['image_id'].nunique(), vindr_val_df['image_id'].nunique()"
   ]
  },
  {
   "cell_type": "code",
   "execution_count": 403,
   "metadata": {},
   "outputs": [],
   "source": [
    "# def get_path(img_id):\n",
    "#     if img_id in val_imgs:\n",
    "#         return f\"/share/nvmedata/vinbigdata-chest-xray-resized-pt-512x512/val/{img_id}.pt\"\n",
    "#     elif img_id in test_imgs:\n",
    "#         return f\"/share/nvmedata/vinbigdata-chest-xray-resized-pt-512x512/test/{img_id}.pt\"\n",
    "#     elif img_id in train_imgs:\n",
    "#         return f\"/share/nvmedata/vinbigdata-chest-xray-resized-pt-512x512/train/{img_id}.pt\"\n",
    "#     else:\n",
    "#         return None\n",
    "# # \n",
    "# # vindr_combined_df['path'] = vindr_combined_df['image_id'].apply(get_path)"
   ]
  },
  {
   "cell_type": "code",
   "execution_count": 404,
   "metadata": {},
   "outputs": [],
   "source": [
    "# all_imgs = vindr_combined_df['path'].tolist()\n",
    "\n",
    "# for img_path in tqdm(all_imgs):\n",
    "#     if os.path.exists(img_path) is False:\n",
    "#         print(img_path)"
   ]
  },
  {
   "cell_type": "code",
   "execution_count": 405,
   "metadata": {},
   "outputs": [],
   "source": [
    "# vindr_train_df = vindr_combined_df[vindr_combined_df['image_id'].isin(train_imgs+val_imgs)]\n",
    "# vindr_val_df = vindr_combined_df[vindr_combined_df['image_id'].isin(test_imgs)]"
   ]
  },
  {
   "cell_type": "code",
   "execution_count": 406,
   "metadata": {},
   "outputs": [
    {
     "data": {
      "text/plain": [
       "((41359, 18), (1000, 15))"
      ]
     },
     "execution_count": 406,
     "metadata": {},
     "output_type": "execute_result"
    }
   ],
   "source": [
    "vindr_train_df.shape, vindr_val_df.shape"
   ]
  },
  {
   "cell_type": "code",
   "execution_count": 407,
   "metadata": {},
   "outputs": [],
   "source": [
    "# # check if any img_id has more than one labels\n",
    "# img_id_counts = vindr_prev_combined_df['image_id'].value_counts().to_dict()\n",
    "# gt_1 = [k for k,v in img_id_counts.items() if v > 1]\n",
    "# print(\"Number of images with more than one labels: \", len(gt_1))\n",
    "# vindr_prev_combined_df[vindr_prev_combined_df['image_id'] == gt_1[44]]['class_name'].unique()"
   ]
  },
  {
   "cell_type": "code",
   "execution_count": 408,
   "metadata": {},
   "outputs": [],
   "source": [
    "# len([i for i in os.listdir(\"/share/nvmedata/vinbigdata-chest-xray-resized-pt-512x512/train\") if i.endswith(\".pt\")]), len([i for i in os.listdir(\"/share/nvmedata/vinbigdata-chest-xray-resized-pt-512x512/test\") if i.endswith(\".pt\")]), len([i for i in os.listdir(\"/share/nvmedata/vinbigdata-chest-xray-resized-pt-512x512/val\") if i.endswith(\".pt\")])\n"
   ]
  },
  {
   "cell_type": "code",
   "execution_count": 409,
   "metadata": {},
   "outputs": [],
   "source": [
    "# vindr_train_df = vindr_train_df[vindr_train_df['class_name'].str.lower().isin(common_classes)]\n",
    "# vindr_val_df = vindr_val_df[vindr_val_df['class_name'].str.lower().isin(common_classes)]"
   ]
  },
  {
   "cell_type": "code",
   "execution_count": 410,
   "metadata": {},
   "outputs": [],
   "source": [
    "# imgs = vindr_train_df['image_id'].unique().tolist()\n",
    "# dir_path = '/share/nvmedata/vinbigdata-chest-xray-resized-pt-512x512/train'\n",
    "# from tqdm import tqdm\n",
    "\n",
    "# not_found = []\n",
    "# for img in tqdm(imgs):\n",
    "#     if not os.path.exists(os.path.join(dir_path, img+'.pt')):\n",
    "#         not_found.append(img)\n",
    "#         # break\n"
   ]
  },
  {
   "cell_type": "code",
   "execution_count": 411,
   "metadata": {},
   "outputs": [],
   "source": [
    "# prev_imgs = vindr_prev_train_csv['image_id'].unique().tolist()\n",
    "\n",
    "# not_found = []\n",
    "# for img in tqdm(prev_imgs):\n",
    "#     if not os.path.exists(os.path.join(dir_path, img+'.pt')):\n",
    "#         not_found.append(img)\n",
    "#         # break"
   ]
  },
  {
   "cell_type": "code",
   "execution_count": 412,
   "metadata": {},
   "outputs": [],
   "source": [
    "# vindr_train_df = pd.read_csv(os.path.join(vindr_csv_path, \"train.csv\"))\n",
    "# vindr_val_df = pd.read_csv(os.path.join(vindr_csv_path, \"val.csv\"))"
   ]
  },
  {
   "cell_type": "code",
   "execution_count": 62,
   "metadata": {},
   "outputs": [
    {
     "data": {
      "text/plain": [
       "(13180, 40375, 945, 2890)"
      ]
     },
     "execution_count": 62,
     "metadata": {},
     "output_type": "execute_result"
    }
   ],
   "source": [
    "len(vindr_train_df['image_id'].unique()), len(vindr_train_df), len(vindr_val_df['image_id'].unique()), len(vindr_val_df)\n"
   ]
  },
  {
   "cell_type": "code",
   "execution_count": 63,
   "metadata": {},
   "outputs": [],
   "source": [
    "# # add path in vindr_train_df\n",
    "# from tqdm import tqdm\n",
    "# vindr_train_imgs = vindr_train_df['image_id'].unique().tolist()\n",
    "# train_imgs_dir = os.listdir(\"/share/nvmedata/vinbigdata-chest-xray-resized-pt-512x512/train\")\n",
    "# test_imgs_dir = os.listdir(\"/share/nvmedata/vinbigdata-chest-xray-resized-pt-512x512/test\")\n",
    "\n",
    "\n",
    "# def get_path(row):\n",
    "#     if row['image_id']+\".pt\" in train_imgs_dir:\n",
    "#         return os.path.join(\"/share/nvmedata/vinbigdata-chest-xray-resized-pt-512x512/train\", row['image_id']+\".pt\")\n",
    "#     else:\n",
    "#         return os.path.join(\"/share/nvmedata/vinbigdata-chest-xray-resized-pt-512x512/test\", row['image_id']+\".pt\")\n",
    "\n",
    "# vindr_train_df['path'] = vindr_train_df.apply(get_path, axis=1)\n",
    "\n",
    "# vindr_train_df.to_csv(os.path.join(vindr_csv_path, \"train.csv\"), index=False)"
   ]
  },
  {
   "cell_type": "code",
   "execution_count": 64,
   "metadata": {},
   "outputs": [],
   "source": [
    "rsna_csv_path = \"/share/nvmedata/RSNA-Pneunomia-Detection-PT\"\n",
    "\n",
    "rsna_train_df = pd.read_csv(os.path.join(rsna_csv_path, \"rsna_train.csv\"))\n",
    "rsna_val_df = pd.read_csv(os.path.join(rsna_csv_path, \"rsna_val.csv\"))\n",
    "rsna_test_df = pd.read_csv(os.path.join(rsna_csv_path, \"rsna_test.csv\"))"
   ]
  },
  {
   "cell_type": "code",
   "execution_count": 65,
   "metadata": {},
   "outputs": [],
   "source": [
    "# rsna_train_df['path'] = rsna_train_df.apply(lambda row: row['path'].replace(\"/share/nvmedata/RSNA-Pneunomia-Detection-PT/stage_2_train_pt/\", '/share/nvmedata/RSNA-Pneunomia-Detection-PT/'), axis=1)\n",
    "# rsna_val_df['path'] = rsna_val_df.apply(lambda row: row['path'].replace(\"/share/nvmedata/RSNA-Pneunomia-Detection-PT/stage_2_train_pt/\", '/share/nvmedata/RSNA-Pneunomia-Detection-PT/'), axis=1)\n",
    "# rsna_test_df['path'] = rsna_test_df.apply(lambda row: row['path'].replace(\"/share/nvmedata/RSNA-Pneunomia-Detection-PT/stage_2_train_pt/\", '/share/nvmedata/RSNA-Pneunomia-Detection-PT/'), axis=1)"
   ]
  },
  {
   "cell_type": "code",
   "execution_count": 66,
   "metadata": {},
   "outputs": [
    {
     "data": {
      "text/plain": [
       "Index(['image_id', 'path', 'png_path', 'x_min', 'y_min', 'x_max', 'y_max',\n",
       "       'area', 'class', 'class_id', 'class_name'],\n",
       "      dtype='object')"
      ]
     },
     "execution_count": 66,
     "metadata": {},
     "output_type": "execute_result"
    }
   ],
   "source": [
    "rsna_train_df.columns"
   ]
  },
  {
   "cell_type": "code",
   "execution_count": 67,
   "metadata": {},
   "outputs": [],
   "source": [
    "rsna_train_test_df = pd.concat([rsna_train_df, rsna_test_df])"
   ]
  },
  {
   "cell_type": "code",
   "execution_count": 68,
   "metadata": {},
   "outputs": [
    {
     "data": {
      "text/plain": [
       "((29881, 11), (346, 11), (340, 11), (29541, 11))"
      ]
     },
     "execution_count": 68,
     "metadata": {},
     "output_type": "execute_result"
    }
   ],
   "source": [
    "rsna_train_test_df.shape, rsna_val_df.shape, rsna_test_df.shape, rsna_train_df.shape"
   ]
  },
  {
   "cell_type": "code",
   "execution_count": 69,
   "metadata": {},
   "outputs": [
    {
     "data": {
      "text/plain": [
       "Index(['image_id', 'path', 'png_path', 'x_min', 'y_min', 'x_max', 'y_max',\n",
       "       'area', 'class', 'class_id', 'class_name'],\n",
       "      dtype='object')"
      ]
     },
     "execution_count": 69,
     "metadata": {},
     "output_type": "execute_result"
    }
   ],
   "source": [
    "rsna_train_test_df.columns"
   ]
  },
  {
   "cell_type": "code",
   "execution_count": 70,
   "metadata": {},
   "outputs": [
    {
     "data": {
      "text/plain": [
       "array([14, 15])"
      ]
     },
     "execution_count": 70,
     "metadata": {},
     "output_type": "execute_result"
    }
   ],
   "source": [
    "rsna_train_test_df['class_id'].unique()"
   ]
  },
  {
   "cell_type": "code",
   "execution_count": 72,
   "metadata": {},
   "outputs": [],
   "source": [
    "# vindr_train_df[['image_id', 'path', 'x_min', 'y_min', 'x_max', 'y_max',\n",
    "#        'area', 'class_id', 'class_name']]"
   ]
  },
  {
   "cell_type": "code",
   "execution_count": 423,
   "metadata": {},
   "outputs": [],
   "source": [
    "# combined rsna_train_df and vindr_train_df\n",
    "cols = ['image_id', 'path', 'x_min', 'y_min', 'x_max', 'y_max', 'area', 'class_id', 'class_name']\n",
    "combined_train_df = pd.concat([rsna_train_test_df[cols], vindr_train_df[cols]])\n",
    "combined_val_df = pd.concat([rsna_val_df[cols], vindr_val_df[cols]])"
   ]
  },
  {
   "cell_type": "code",
   "execution_count": 424,
   "metadata": {},
   "outputs": [
    {
     "data": {
      "text/plain": [
       "<Axes: xlabel='class_name'>"
      ]
     },
     "execution_count": 424,
     "metadata": {},
     "output_type": "execute_result"
    },
    {
     "data": {
      "image/png": "[encoded data removed]",
      "text/plain": [
       "<Figure size 640x480 with 1 Axes>"
      ]
     },
     "metadata": {},
     "output_type": "display_data"
    }
   ],
   "source": [
    "combined_train_df['class_name'].replace(\"No finding\", \"No Finding\", inplace=True)\n",
    "combined_train_df['class_name'].value_counts().plot(kind='bar')\n",
    "\n"
   ]
  },
  {
   "cell_type": "code",
   "execution_count": 425,
   "metadata": {},
   "outputs": [
    {
     "data": {
      "text/plain": [
       "array([14, 15,  0,  3, 11,  8, 13])"
      ]
     },
     "execution_count": 425,
     "metadata": {},
     "output_type": "execute_result"
    }
   ],
   "source": [
    "combined_val_df['class_id'].unique()"
   ]
  },
  {
   "cell_type": "code",
   "execution_count": 426,
   "metadata": {},
   "outputs": [
    {
     "data": {
      "text/plain": [
       "<Axes: xlabel='class_name'>"
      ]
     },
     "execution_count": 426,
     "metadata": {},
     "output_type": "execute_result"
    },
    {
     "data": {
      "image/png": "[encoded data removed]",
      "text/plain": [
       "<Figure size 640x480 with 1 Axes>"
      ]
     },
     "metadata": {},
     "output_type": "display_data"
    }
   ],
   "source": [
    "\n",
    "combined_val_df['class_name'].replace(\"No finding\", \"No Finding\", inplace=True)\n",
    "combined_val_df['class_name'].value_counts().plot(kind='bar')"
   ]
  },
  {
   "cell_type": "code",
   "execution_count": 427,
   "metadata": {},
   "outputs": [],
   "source": [
    "# combined_train_df.to_csv(\"/share/nvmedata/vinbigdata-chest-xray-resized-pt-512x512/rsna_vindr_cnet_csv/train.csv\", index=False)\n",
    "# combined_val_df.to_csv(\"/share/nvmedata/vinbigdata-chest-xray-resized-pt-512x512/rsna_vindr_cnet_csv/val.csv\", index=False)"
   ]
  },
  {
   "cell_type": "code",
   "execution_count": 428,
   "metadata": {},
   "outputs": [],
   "source": [
    "import pandas as pd\n",
    "import numpy as np\n",
    "\n",
    "def non_max_suppression(boxes, overlap_threshold=0.2):\n",
    "    if len(boxes) == 0:\n",
    "        return []\n",
    "\n",
    "    # Assuming boxes is a NumPy array where each row is [x_min, y_min, x_max, y_max]\n",
    "    pick = []\n",
    "    x1 = boxes[:, 0]\n",
    "    y1 = boxes[:, 1]\n",
    "    x2 = boxes[:, 2]\n",
    "    y2 = boxes[:, 3]\n",
    "\n",
    "    area = (x2 - x1 + 1) * (y2 - y1 + 1)\n",
    "    indices = np.argsort(y2)  # Sort by the bottom y-coordinate of the bounding boxes\n",
    "\n",
    "    while len(indices) > 0:\n",
    "        last = len(indices) - 1\n",
    "        i = indices[last]\n",
    "        pick.append(i)\n",
    "\n",
    "        xx1 = np.maximum(x1[i], x1[indices[:last]])\n",
    "        yy1 = np.maximum(y1[i], y1[indices[:last]])\n",
    "        xx2 = np.minimum(x2[i], x2[indices[:last]])\n",
    "        yy2 = np.minimum(y2[i], y2[indices[:last]])\n",
    "\n",
    "        width = np.maximum(0, xx2 - xx1 + 1)\n",
    "        height = np.maximum(0, yy2 - yy1 + 1)\n",
    "\n",
    "        overlap = (width * height) / area[indices[:last]]\n",
    "\n",
    "        indices = np.delete(\n",
    "            indices,\n",
    "            np.concatenate(\n",
    "                (\n",
    "                    [last],\n",
    "                    np.where(overlap > overlap_threshold)[0]\n",
    "                )\n",
    "            )\n",
    "        )\n",
    "\n",
    "    return boxes[pick]\n"
   ]
  },
  {
   "cell_type": "code",
   "execution_count": 429,
   "metadata": {},
   "outputs": [],
   "source": [
    "\n",
    "# # Load CSV data\n",
    "# # Group data by 'image_id'\n",
    "# grouped_data = combined_train_df.groupby('image_id')\n",
    "\n",
    "# # Apply NMS for each group\n",
    "# nms_results = []\n",
    "# for group_name, group_data in grouped_data:\n",
    "#     bounding_boxes = group_data[['x_min', 'y_min', 'x_max', 'y_max']].values\n",
    "#     result = non_max_suppression(bounding_boxes)\n",
    "#     nms_results.append(result)\n",
    "\n",
    "# # Combine the results back into a single DataFrame\n",
    "# train_nms_df = pd.concat([pd.DataFrame(result, columns=['x_min', 'y_min', 'x_max', 'y_max']) for result in nms_results], keys=grouped_data.groups.keys())\n",
    "\n",
    "\n",
    "\n",
    "# # Load CSV data\n",
    "# # combined_train_df = combined_train_df\n",
    "# # Group data by 'image_id'\n",
    "# grouped_data = combined_val_df.groupby('image_id')\n",
    "\n",
    "# # Apply NMS for each group\n",
    "# nms_results = []\n",
    "# for group_name, group_data in grouped_data:\n",
    "#     bounding_boxes = group_data[['x_min', 'y_min', 'x_max', 'y_max']].values\n",
    "#     result = non_max_suppression(bounding_boxes)\n",
    "#     nms_results.append(result)\n",
    "\n",
    "# # Combine the results back into a single DataFrame\n",
    "# val_nms_df = pd.concat([pd.DataFrame(result, columns=['x_min', 'y_min', 'x_max', 'y_max']) for result in nms_results], keys=grouped_data.groups.keys())\n"
   ]
  },
  {
   "cell_type": "code",
   "execution_count": 430,
   "metadata": {},
   "outputs": [],
   "source": [
    "import pandas as pd\n",
    "import numpy as np\n",
    "from tqdm import tqdm\n",
    "\n",
    "# # Load CSV data\n",
    "# df = combined_train_df\n",
    "# # Select relevant columns for grouping and NMS\n",
    "# group_cols = ['image_id', 'x_min', 'y_min', 'x_max', 'y_max', 'area', 'path', 'class_name', 'class_id']\n",
    "# grouped_data = df[group_cols].groupby('image_id')\n",
    "\n",
    "# # Apply NMS for each group\n",
    "# nms_results = []\n",
    "# for group_name, group_data in grouped_data:\n",
    "#     bounding_boxes = group_data[['x_min', 'y_min', 'x_max', 'y_max']].values\n",
    "#     result = non_max_suppression(bounding_boxes)\n",
    "#     nms_results.append(result)\n",
    "\n",
    "# # Combine the results back into a single DataFrame\n",
    "# train_nms_df = pd.concat([pd.DataFrame(result, columns=['x_min', 'y_min', 'x_max', 'y_max']) for result in nms_results], keys=grouped_data.groups.keys())\n",
    "\n",
    "# # Reset index and merge with original columns\n",
    "# train_nms_df = train_nms_df.reset_index()\n",
    "# train_nms_df.rename(columns={'level_0': 'image_id'}, inplace=True)\n",
    "# train_result_df = pd.merge(train_nms_df, df[['image_id', 'area', 'path', 'class_name', 'class_id']], on='image_id').drop_duplicates(subset=['image_id','x_min', 'y_min', 'x_max', 'y_max'])\n",
    "\n",
    "# # .drop_duplicates(subset=['x_min', 'y_min', 'x_max', 'y_max'])\n",
    "\n",
    "\n",
    "df = combined_train_df\n",
    "# Select relevant columns for grouping and NMS\n",
    "group_cols = ['image_id', 'x_min', 'y_min', 'x_max', 'y_max', 'area', 'path', 'class_name', 'class_id']\n",
    "grouped_data = df[group_cols].groupby(['image_id', 'class_name'])\n",
    "\n",
    "# Apply NMS for each group\n",
    "nms_results = []\n",
    "for group_name, group_data in grouped_data:\n",
    "    bounding_boxes = group_data[['x_min', 'y_min', 'x_max', 'y_max']].values\n",
    "    result = non_max_suppression(bounding_boxes)\n",
    "    nms_results.append(result)\n",
    "\n",
    "# Combine the results back into a single DataFrame\n",
    "train_nms_df = pd.concat([pd.DataFrame(result, columns=['x_min', 'y_min', 'x_max', 'y_max']) for result in nms_results], keys=grouped_data.groups.keys())\n",
    "\n",
    "# Reset index and merge with original columns\n",
    "train_nms_df = train_nms_df.reset_index()\n",
    "train_nms_df.rename(columns={'level_0': 'image_id'}, inplace=True)\n",
    "\n",
    "# Merge with original columns including 'class_name'\n",
    "train_result_df = pd.merge(train_nms_df, df[['image_id', 'area', 'path', 'class_name', 'class_id']], on=['image_id']).drop_duplicates(subset=['image_id', 'class_name', 'x_min', 'y_min', 'x_max', 'y_max'])\n",
    "\n",
    "# Save the result to a new CSV file\n",
    "# train_result_df.to_csv(\"result.csv\", index=False)  # Replace \"result.csv\" with your desired output file path"
   ]
  },
  {
   "cell_type": "code",
   "execution_count": 432,
   "metadata": {},
   "outputs": [],
   "source": [
    "\n",
    "\n",
    "\n",
    "import pandas as pd\n",
    "import numpy as np\n",
    "\n",
    "# Load CSV data\n",
    "df = combined_val_df\n",
    "# # Select relevant columns for grouping and NMS\n",
    "# group_cols = ['image_id', 'x_min', 'y_min', 'x_max', 'y_max', 'area', 'path', 'class_name', 'class_id']\n",
    "# grouped_data = df[group_cols].groupby('image_id')\n",
    "\n",
    "# # Apply NMS for each group\n",
    "# nms_results = []\n",
    "# for group_name, group_data in grouped_data:\n",
    "#     bounding_boxes = group_data[['x_min', 'y_min', 'x_max', 'y_max']].values\n",
    "#     result = non_max_suppression(bounding_boxes)\n",
    "#     nms_results.append(result)\n",
    "\n",
    "# # Combine the results back into a single DataFrame\n",
    "# val_nms_df = pd.concat([pd.DataFrame(result, columns=['x_min', 'y_min', 'x_max', 'y_max']) for result in nms_results], keys=grouped_data.groups.keys())\n",
    "\n",
    "# # Reset index and merge with original columns\n",
    "# val_nms_df = val_nms_df.reset_index()\n",
    "# val_nms_df.rename(columns={'level_0': 'image_id'}, inplace=True)\n",
    "# val_result_df = pd.merge(val_nms_df, df[['image_id', 'area', 'path', 'class_name', 'class_id']], on='image_id').drop_duplicates(subset=['image_id','x_min', 'y_min', 'x_max', 'y_max'])\n",
    "\n",
    "\n",
    "\n",
    "group_cols = ['image_id', 'x_min', 'y_min', 'x_max', 'y_max', 'area', 'path', 'class_name', 'class_id']\n",
    "grouped_data = df[group_cols].groupby(['image_id', 'class_name'])\n",
    "\n",
    "# Apply NMS for each group\n",
    "nms_results = []\n",
    "for group_name, group_data in grouped_data:\n",
    "    bounding_boxes = group_data[['x_min', 'y_min', 'x_max', 'y_max']].values\n",
    "    result = non_max_suppression(bounding_boxes)\n",
    "    nms_results.append(result)\n",
    "\n",
    "# Combine the results back into a single DataFrame\n",
    "val_nms_df = pd.concat([pd.DataFrame(result, columns=['x_min', 'y_min', 'x_max', 'y_max']) for result in nms_results], keys=grouped_data.groups.keys())\n",
    "\n",
    "# Reset index and merge with original columns\n",
    "val_nms_df = val_nms_df.reset_index()\n",
    "val_nms_df.rename(columns={'level_0': 'image_id'}, inplace=True)\n",
    "\n",
    "# Merge with original columns including 'class_name'\n",
    "val_result_df = pd.merge(val_nms_df, df[['image_id', 'area', 'path', 'class_name', 'class_id']], on=['image_id']).drop_duplicates(subset=['image_id', 'class_name', 'x_min', 'y_min', 'x_max', 'y_max'])\n",
    "\n",
    "# Save the result to a new CSV file\n",
    "val_result_df.to_csv(\"result.csv\", index=False)  # Replace \"result.csv\" with your desired output file path"
   ]
  },
  {
   "cell_type": "code",
   "execution_count": 436,
   "metadata": {},
   "outputs": [
    {
     "data": {
      "text/html": [
       "<div>\n",
       "<style scoped>\n",
       "    .dataframe tbody tr th:only-of-type {\n",
       "        vertical-align: middle;\n",
       "    }\n",
       "\n",
       "    .dataframe tbody tr th {\n",
       "        vertical-align: top;\n",
       "    }\n",
       "\n",
       "    .dataframe thead th {\n",
       "        text-align: right;\n",
       "    }\n",
       "</style>\n",
       "<table border=\"1\" class=\"dataframe\">\n",
       "  <thead>\n",
       "    <tr style=\"text-align: right;\">\n",
       "      <th></th>\n",
       "      <th>image_id</th>\n",
       "      <th>level_1</th>\n",
       "      <th>level_2</th>\n",
       "      <th>x_min</th>\n",
       "      <th>y_min</th>\n",
       "      <th>x_max</th>\n",
       "      <th>y_max</th>\n",
       "      <th>area</th>\n",
       "      <th>path</th>\n",
       "      <th>class_name</th>\n",
       "      <th>class_id</th>\n",
       "    </tr>\n",
       "  </thead>\n",
       "  <tbody>\n",
       "    <tr>\n",
       "      <th>92472</th>\n",
       "      <td>9a5094b2563a1ef3ff50dc5c7ff71345</td>\n",
       "      <td>Cardiomegaly</td>\n",
       "      <td>0</td>\n",
       "      <td>170.092308</td>\n",
       "      <td>301.369863</td>\n",
       "      <td>406.892308</td>\n",
       "      <td>401.315068</td>\n",
       "      <td>23667.024658</td>\n",
       "      <td>/share/nvmedata/vinbigdata-chest-xray-resized-...</td>\n",
       "      <td>Cardiomegaly</td>\n",
       "      <td>3</td>\n",
       "    </tr>\n",
       "    <tr>\n",
       "      <th>92473</th>\n",
       "      <td>9a5094b2563a1ef3ff50dc5c7ff71345</td>\n",
       "      <td>Cardiomegaly</td>\n",
       "      <td>0</td>\n",
       "      <td>170.092308</td>\n",
       "      <td>301.369863</td>\n",
       "      <td>406.892308</td>\n",
       "      <td>401.315068</td>\n",
       "      <td>1220.275659</td>\n",
       "      <td>/share/nvmedata/vinbigdata-chest-xray-resized-...</td>\n",
       "      <td>Pleural effusion</td>\n",
       "      <td>10</td>\n",
       "    </tr>\n",
       "    <tr>\n",
       "      <th>92476</th>\n",
       "      <td>9a5094b2563a1ef3ff50dc5c7ff71345</td>\n",
       "      <td>Pleural effusion</td>\n",
       "      <td>0</td>\n",
       "      <td>440.369231</td>\n",
       "      <td>378.958904</td>\n",
       "      <td>461.538462</td>\n",
       "      <td>436.602740</td>\n",
       "      <td>23667.024658</td>\n",
       "      <td>/share/nvmedata/vinbigdata-chest-xray-resized-...</td>\n",
       "      <td>Cardiomegaly</td>\n",
       "      <td>3</td>\n",
       "    </tr>\n",
       "    <tr>\n",
       "      <th>92477</th>\n",
       "      <td>9a5094b2563a1ef3ff50dc5c7ff71345</td>\n",
       "      <td>Pleural effusion</td>\n",
       "      <td>0</td>\n",
       "      <td>440.369231</td>\n",
       "      <td>378.958904</td>\n",
       "      <td>461.538462</td>\n",
       "      <td>436.602740</td>\n",
       "      <td>1220.275659</td>\n",
       "      <td>/share/nvmedata/vinbigdata-chest-xray-resized-...</td>\n",
       "      <td>Pleural effusion</td>\n",
       "      <td>10</td>\n",
       "    </tr>\n",
       "  </tbody>\n",
       "</table>\n",
       "</div>"
      ],
      "text/plain": [
       "                               image_id           level_1  level_2  \\\n",
       "92472  9a5094b2563a1ef3ff50dc5c7ff71345      Cardiomegaly        0   \n",
       "92473  9a5094b2563a1ef3ff50dc5c7ff71345      Cardiomegaly        0   \n",
       "92476  9a5094b2563a1ef3ff50dc5c7ff71345  Pleural effusion        0   \n",
       "92477  9a5094b2563a1ef3ff50dc5c7ff71345  Pleural effusion        0   \n",
       "\n",
       "            x_min       y_min       x_max       y_max          area  \\\n",
       "92472  170.092308  301.369863  406.892308  401.315068  23667.024658   \n",
       "92473  170.092308  301.369863  406.892308  401.315068   1220.275659   \n",
       "92476  440.369231  378.958904  461.538462  436.602740  23667.024658   \n",
       "92477  440.369231  378.958904  461.538462  436.602740   1220.275659   \n",
       "\n",
       "                                                    path        class_name  \\\n",
       "92472  /share/nvmedata/vinbigdata-chest-xray-resized-...      Cardiomegaly   \n",
       "92473  /share/nvmedata/vinbigdata-chest-xray-resized-...  Pleural effusion   \n",
       "92476  /share/nvmedata/vinbigdata-chest-xray-resized-...      Cardiomegaly   \n",
       "92477  /share/nvmedata/vinbigdata-chest-xray-resized-...  Pleural effusion   \n",
       "\n",
       "       class_id  \n",
       "92472         3  \n",
       "92473        10  \n",
       "92476         3  \n",
       "92477        10  "
      ]
     },
     "execution_count": 436,
     "metadata": {},
     "output_type": "execute_result"
    }
   ],
   "source": [
    "# vindr_prev_combined_df = vindr_prev_combined_df[['image_id', \"\"]]\n",
    "img_id = \"9a5094b2563a1ef3ff50dc5c7ff71345\"\n",
    "train_result_df[train_result_df['image_id'] == img_id]\n"
   ]
  },
  {
   "cell_type": "code",
   "execution_count": 433,
   "metadata": {},
   "outputs": [
    {
     "data": {
      "text/html": [
       "<div>\n",
       "<style scoped>\n",
       "    .dataframe tbody tr th:only-of-type {\n",
       "        vertical-align: middle;\n",
       "    }\n",
       "\n",
       "    .dataframe tbody tr th {\n",
       "        vertical-align: top;\n",
       "    }\n",
       "\n",
       "    .dataframe thead th {\n",
       "        text-align: right;\n",
       "    }\n",
       "</style>\n",
       "<table border=\"1\" class=\"dataframe\">\n",
       "  <thead>\n",
       "    <tr style=\"text-align: right;\">\n",
       "      <th></th>\n",
       "      <th>image_id</th>\n",
       "      <th>level_1</th>\n",
       "      <th>level_2</th>\n",
       "      <th>x_min</th>\n",
       "      <th>y_min</th>\n",
       "      <th>x_max</th>\n",
       "      <th>y_max</th>\n",
       "      <th>area</th>\n",
       "      <th>path</th>\n",
       "      <th>class_name</th>\n",
       "      <th>class_id</th>\n",
       "    </tr>\n",
       "  </thead>\n",
       "  <tbody>\n",
       "    <tr>\n",
       "      <th>0</th>\n",
       "      <td>0010f549-b242-4e94-87a8-57d79de215fc</td>\n",
       "      <td>No Finding</td>\n",
       "      <td>0</td>\n",
       "      <td>NaN</td>\n",
       "      <td>NaN</td>\n",
       "      <td>NaN</td>\n",
       "      <td>NaN</td>\n",
       "      <td>NaN</td>\n",
       "      <td>/share/nvmedata/RSNA-Pneunomia-Detection-PT/st...</td>\n",
       "      <td>No Finding</td>\n",
       "      <td>14</td>\n",
       "    </tr>\n",
       "    <tr>\n",
       "      <th>1</th>\n",
       "      <td>00575e3846ebd05a909d97ba59c53d30</td>\n",
       "      <td>No Finding</td>\n",
       "      <td>0</td>\n",
       "      <td>NaN</td>\n",
       "      <td>NaN</td>\n",
       "      <td>NaN</td>\n",
       "      <td>NaN</td>\n",
       "      <td>NaN</td>\n",
       "      <td>/share/nvmedata/vinbigdata-chest-xray-resized-...</td>\n",
       "      <td>No Finding</td>\n",
       "      <td>14</td>\n",
       "    </tr>\n",
       "    <tr>\n",
       "      <th>2</th>\n",
       "      <td>005be26a68485912e007a3703f43d60a</td>\n",
       "      <td>No Finding</td>\n",
       "      <td>0</td>\n",
       "      <td>NaN</td>\n",
       "      <td>NaN</td>\n",
       "      <td>NaN</td>\n",
       "      <td>NaN</td>\n",
       "      <td>NaN</td>\n",
       "      <td>/share/nvmedata/vinbigdata-chest-xray-resized-...</td>\n",
       "      <td>No Finding</td>\n",
       "      <td>14</td>\n",
       "    </tr>\n",
       "    <tr>\n",
       "      <th>3</th>\n",
       "      <td>007c1195aab852cff5c20736be26a1ae</td>\n",
       "      <td>No Finding</td>\n",
       "      <td>0</td>\n",
       "      <td>NaN</td>\n",
       "      <td>NaN</td>\n",
       "      <td>NaN</td>\n",
       "      <td>NaN</td>\n",
       "      <td>NaN</td>\n",
       "      <td>/share/nvmedata/vinbigdata-chest-xray-resized-...</td>\n",
       "      <td>No Finding</td>\n",
       "      <td>14</td>\n",
       "    </tr>\n",
       "    <tr>\n",
       "      <th>4</th>\n",
       "      <td>00ad02393a5d0bd1e0dcf3196433499f</td>\n",
       "      <td>No Finding</td>\n",
       "      <td>0</td>\n",
       "      <td>NaN</td>\n",
       "      <td>NaN</td>\n",
       "      <td>NaN</td>\n",
       "      <td>NaN</td>\n",
       "      <td>NaN</td>\n",
       "      <td>/share/nvmedata/vinbigdata-chest-xray-resized-...</td>\n",
       "      <td>No Finding</td>\n",
       "      <td>14</td>\n",
       "    </tr>\n",
       "  </tbody>\n",
       "</table>\n",
       "</div>"
      ],
      "text/plain": [
       "                               image_id     level_1  level_2  x_min  y_min  \\\n",
       "0  0010f549-b242-4e94-87a8-57d79de215fc  No Finding        0    NaN    NaN   \n",
       "1      00575e3846ebd05a909d97ba59c53d30  No Finding        0    NaN    NaN   \n",
       "2      005be26a68485912e007a3703f43d60a  No Finding        0    NaN    NaN   \n",
       "3      007c1195aab852cff5c20736be26a1ae  No Finding        0    NaN    NaN   \n",
       "4      00ad02393a5d0bd1e0dcf3196433499f  No Finding        0    NaN    NaN   \n",
       "\n",
       "   x_max  y_max  area                                               path  \\\n",
       "0    NaN    NaN   NaN  /share/nvmedata/RSNA-Pneunomia-Detection-PT/st...   \n",
       "1    NaN    NaN   NaN  /share/nvmedata/vinbigdata-chest-xray-resized-...   \n",
       "2    NaN    NaN   NaN  /share/nvmedata/vinbigdata-chest-xray-resized-...   \n",
       "3    NaN    NaN   NaN  /share/nvmedata/vinbigdata-chest-xray-resized-...   \n",
       "4    NaN    NaN   NaN  /share/nvmedata/vinbigdata-chest-xray-resized-...   \n",
       "\n",
       "   class_name  class_id  \n",
       "0  No Finding        14  \n",
       "1  No Finding        14  \n",
       "2  No Finding        14  \n",
       "3  No Finding        14  \n",
       "4  No Finding        14  "
      ]
     },
     "execution_count": 433,
     "metadata": {},
     "output_type": "execute_result"
    }
   ],
   "source": [
    "val_result_df.head()"
   ]
  },
  {
   "cell_type": "code",
   "execution_count": 80,
   "metadata": {},
   "outputs": [
    {
     "data": {
      "text/html": [
       "<div>\n",
       "<style scoped>\n",
       "    .dataframe tbody tr th:only-of-type {\n",
       "        vertical-align: middle;\n",
       "    }\n",
       "\n",
       "    .dataframe tbody tr th {\n",
       "        vertical-align: top;\n",
       "    }\n",
       "\n",
       "    .dataframe thead th {\n",
       "        text-align: right;\n",
       "    }\n",
       "</style>\n",
       "<table border=\"1\" class=\"dataframe\">\n",
       "  <thead>\n",
       "    <tr style=\"text-align: right;\">\n",
       "      <th></th>\n",
       "      <th>image_id</th>\n",
       "      <th>level_1</th>\n",
       "      <th>x_min</th>\n",
       "      <th>y_min</th>\n",
       "      <th>x_max</th>\n",
       "      <th>y_max</th>\n",
       "      <th>area</th>\n",
       "      <th>path</th>\n",
       "      <th>class_name</th>\n",
       "      <th>class_id</th>\n",
       "    </tr>\n",
       "  </thead>\n",
       "  <tbody>\n",
       "    <tr>\n",
       "      <th>0</th>\n",
       "      <td>000434271f63a053c4128a0ba6352c7f</td>\n",
       "      <td>0</td>\n",
       "      <td>NaN</td>\n",
       "      <td>NaN</td>\n",
       "      <td>NaN</td>\n",
       "      <td>NaN</td>\n",
       "      <td>NaN</td>\n",
       "      <td>/share/nvmedata/vinbigdata-chest-xray-resized-...</td>\n",
       "      <td>No Finding</td>\n",
       "      <td>14</td>\n",
       "    </tr>\n",
       "    <tr>\n",
       "      <th>9</th>\n",
       "      <td>0004cfab-14fd-4e49-80ba-63a80b6bddd6</td>\n",
       "      <td>0</td>\n",
       "      <td>NaN</td>\n",
       "      <td>NaN</td>\n",
       "      <td>NaN</td>\n",
       "      <td>NaN</td>\n",
       "      <td>NaN</td>\n",
       "      <td>/share/nvmedata/RSNA-Pneunomia-Detection-PT/00...</td>\n",
       "      <td>No Finding</td>\n",
       "      <td>14</td>\n",
       "    </tr>\n",
       "    <tr>\n",
       "      <th>10</th>\n",
       "      <td>00053190460d56c53cc3e57321387478</td>\n",
       "      <td>0</td>\n",
       "      <td>NaN</td>\n",
       "      <td>NaN</td>\n",
       "      <td>NaN</td>\n",
       "      <td>NaN</td>\n",
       "      <td>NaN</td>\n",
       "      <td>/share/nvmedata/vinbigdata-chest-xray-resized-...</td>\n",
       "      <td>No Finding</td>\n",
       "      <td>14</td>\n",
       "    </tr>\n",
       "    <tr>\n",
       "      <th>19</th>\n",
       "      <td>0005e8e3701dfb1dd93d53e2ff537b6e</td>\n",
       "      <td>0</td>\n",
       "      <td>155.333333</td>\n",
       "      <td>94.5</td>\n",
       "      <td>199.5</td>\n",
       "      <td>149.333333</td>\n",
       "      <td>2550.138889</td>\n",
       "      <td>/share/nvmedata/vinbigdata-chest-xray-resized-...</td>\n",
       "      <td>Lung Opacity</td>\n",
       "      <td>7</td>\n",
       "    </tr>\n",
       "    <tr>\n",
       "      <th>22</th>\n",
       "      <td>0006e0a85696f6bb578e84fafa9a5607</td>\n",
       "      <td>0</td>\n",
       "      <td>NaN</td>\n",
       "      <td>NaN</td>\n",
       "      <td>NaN</td>\n",
       "      <td>NaN</td>\n",
       "      <td>NaN</td>\n",
       "      <td>/share/nvmedata/vinbigdata-chest-xray-resized-...</td>\n",
       "      <td>No Finding</td>\n",
       "      <td>14</td>\n",
       "    </tr>\n",
       "  </tbody>\n",
       "</table>\n",
       "</div>"
      ],
      "text/plain": [
       "                                image_id  level_1       x_min  y_min  x_max  \\\n",
       "0       000434271f63a053c4128a0ba6352c7f        0         NaN    NaN    NaN   \n",
       "9   0004cfab-14fd-4e49-80ba-63a80b6bddd6        0         NaN    NaN    NaN   \n",
       "10      00053190460d56c53cc3e57321387478        0         NaN    NaN    NaN   \n",
       "19      0005e8e3701dfb1dd93d53e2ff537b6e        0  155.333333   94.5  199.5   \n",
       "22      0006e0a85696f6bb578e84fafa9a5607        0         NaN    NaN    NaN   \n",
       "\n",
       "         y_max         area  \\\n",
       "0          NaN          NaN   \n",
       "9          NaN          NaN   \n",
       "10         NaN          NaN   \n",
       "19  149.333333  2550.138889   \n",
       "22         NaN          NaN   \n",
       "\n",
       "                                                 path    class_name  class_id  \n",
       "0   /share/nvmedata/vinbigdata-chest-xray-resized-...    No Finding        14  \n",
       "9   /share/nvmedata/RSNA-Pneunomia-Detection-PT/00...    No Finding        14  \n",
       "10  /share/nvmedata/vinbigdata-chest-xray-resized-...    No Finding        14  \n",
       "19  /share/nvmedata/vinbigdata-chest-xray-resized-...  Lung Opacity         7  \n",
       "22  /share/nvmedata/vinbigdata-chest-xray-resized-...    No Finding        14  "
      ]
     },
     "execution_count": 80,
     "metadata": {},
     "output_type": "execute_result"
    }
   ],
   "source": [
    "train_result_df.head()"
   ]
  },
  {
   "cell_type": "code",
   "execution_count": 81,
   "metadata": {},
   "outputs": [
    {
     "data": {
      "text/plain": [
       "(40509, 45451, 40509, 73146)"
      ]
     },
     "execution_count": 81,
     "metadata": {},
     "output_type": "execute_result"
    }
   ],
   "source": [
    "train_result_df['image_id'].nunique(), len(train_result_df), combined_train_df['image_id'].nunique(), len(combined_train_df)"
   ]
  },
  {
   "cell_type": "code",
   "execution_count": 82,
   "metadata": {},
   "outputs": [
    {
     "data": {
      "text/plain": [
       "(40509, 45451, 40509, 73146)"
      ]
     },
     "execution_count": 82,
     "metadata": {},
     "output_type": "execute_result"
    }
   ],
   "source": [
    "a['image_id'].nunique(), len(a), combined_train_df['image_id'].nunique(), len(combined_train_df)"
   ]
  },
  {
   "cell_type": "code",
   "execution_count": 83,
   "metadata": {},
   "outputs": [
    {
     "data": {
      "text/plain": [
       "(1100, 1321, 1100, 1346)"
      ]
     },
     "execution_count": 83,
     "metadata": {},
     "output_type": "execute_result"
    }
   ],
   "source": [
    "len(val_result_df['image_id'].unique()), len(val_result_df), len(combined_val_df['image_id'].unique()), len(combined_val_df)"
   ]
  },
  {
   "cell_type": "code",
   "execution_count": 148,
   "metadata": {},
   "outputs": [
    {
     "name": "stderr",
     "output_type": "stream",
     "text": [
      "100%|██████████| 45451/45451 [00:00<00:00, 809185.96it/s]\n"
     ]
    }
   ],
   "source": [
    "from tqdm import tqdm\n",
    "out = []\n",
    "for i in tqdm(train_result_df['path']):\n",
    "    if \"RSNA\" not in i:\n",
    "        if not os.path.exists(i):\n",
    "            out.append(i)"
   ]
  },
  {
   "cell_type": "code",
   "execution_count": 149,
   "metadata": {},
   "outputs": [
    {
     "data": {
      "text/plain": [
       "0"
      ]
     },
     "execution_count": 149,
     "metadata": {},
     "output_type": "execute_result"
    }
   ],
   "source": [
    "len(out)"
   ]
  },
  {
   "cell_type": "code",
   "execution_count": 150,
   "metadata": {},
   "outputs": [
    {
     "data": {
      "text/plain": [
       "'/share/nvmedata/vinbigdata-chest-xray-resized-pt-512x512/val/007c1195aab852cff5c20736be26a1ae.pt'"
      ]
     },
     "execution_count": 150,
     "metadata": {},
     "output_type": "execute_result"
    }
   ],
   "source": [
    "val_result_df['path'].tolist()[3]"
   ]
  },
  {
   "cell_type": "code",
   "execution_count": 151,
   "metadata": {},
   "outputs": [],
   "source": [
    "dup = []\n",
    "for i in out:\n",
    "    if i in val_result_df['path'].tolist():\n",
    "        dup.append(i)"
   ]
  },
  {
   "cell_type": "code",
   "execution_count": 152,
   "metadata": {},
   "outputs": [],
   "source": [
    "in_val = []\n",
    "for i in out:\n",
    "    if os.path.exists(i.replace(\"test\", \"val\")):\n",
    "        in_val.append(i) "
   ]
  },
  {
   "cell_type": "code",
   "execution_count": 147,
   "metadata": {},
   "outputs": [],
   "source": [
    "def fix_path(path):\n",
    "    if \"RSNA\" not in path:\n",
    "        if not os.path.exists(path):\n",
    "            return path.replace(\"test\", \"val\")\n",
    "        else:\n",
    "            return path\n",
    "    else:\n",
    "        return path\n",
    "train_result_df['path'] = train_result_df['path'].apply(fix_path)\n",
    "\n",
    "val_result_df['path'] = val_result_df['path'].apply(fix_path)"
   ]
  },
  {
   "cell_type": "code",
   "execution_count": 153,
   "metadata": {},
   "outputs": [],
   "source": [
    "train_result_df.to_csv(\"/share/nvmedata/vinbigdata-chest-xray-resized-pt-512x512/rsna_vindr_cnet_csv/train.csv\", index=False)\n",
    "val_result_df.to_csv(\"/share/nvmedata/vinbigdata-chest-xray-resized-pt-512x512/rsna_vindr_cnet_csv/val.csv\", index=False)"
   ]
  },
  {
   "cell_type": "code",
   "execution_count": 107,
   "metadata": {},
   "outputs": [
    {
     "data": {
      "text/html": [
       "<div>\n",
       "<style scoped>\n",
       "    .dataframe tbody tr th:only-of-type {\n",
       "        vertical-align: middle;\n",
       "    }\n",
       "\n",
       "    .dataframe tbody tr th {\n",
       "        vertical-align: top;\n",
       "    }\n",
       "\n",
       "    .dataframe thead th {\n",
       "        text-align: right;\n",
       "    }\n",
       "</style>\n",
       "<table border=\"1\" class=\"dataframe\">\n",
       "  <thead>\n",
       "    <tr style=\"text-align: right;\">\n",
       "      <th></th>\n",
       "      <th>image_id</th>\n",
       "      <th>level_1</th>\n",
       "      <th>x_min</th>\n",
       "      <th>y_min</th>\n",
       "      <th>x_max</th>\n",
       "      <th>y_max</th>\n",
       "      <th>area</th>\n",
       "      <th>path</th>\n",
       "      <th>class_name</th>\n",
       "      <th>class_id</th>\n",
       "    </tr>\n",
       "  </thead>\n",
       "  <tbody>\n",
       "    <tr>\n",
       "      <th>158677</th>\n",
       "      <td>ff6b2b10b8f2350ab09d8690c9c83154</td>\n",
       "      <td>0</td>\n",
       "      <td>154.854902</td>\n",
       "      <td>298.085603</td>\n",
       "      <td>370.94902</td>\n",
       "      <td>348.140078</td>\n",
       "      <td>10816.477546</td>\n",
       "      <td>/share/nvmedata/vinbigdata-chest-xray-resized-...</td>\n",
       "      <td>Cardiomegaly</td>\n",
       "      <td>3</td>\n",
       "    </tr>\n",
       "  </tbody>\n",
       "</table>\n",
       "</div>"
      ],
      "text/plain": [
       "                                image_id  level_1       x_min       y_min  \\\n",
       "158677  ff6b2b10b8f2350ab09d8690c9c83154        0  154.854902  298.085603   \n",
       "\n",
       "            x_max       y_max          area  \\\n",
       "158677  370.94902  348.140078  10816.477546   \n",
       "\n",
       "                                                     path    class_name  \\\n",
       "158677  /share/nvmedata/vinbigdata-chest-xray-resized-...  Cardiomegaly   \n",
       "\n",
       "        class_id  \n",
       "158677         3  "
      ]
     },
     "execution_count": 107,
     "metadata": {},
     "output_type": "execute_result"
    }
   ],
   "source": [
    "cls_ = 'Cardiomegaly'\n",
    "idx= train_result_df[train_result_df['class_name'] == cls_]['image_id'].unique()[-4]\n",
    "\n",
    "train_result_df[train_result_df['image_id'] == idx]"
   ]
  },
  {
   "cell_type": "code",
   "execution_count": 108,
   "metadata": {},
   "outputs": [
    {
     "data": {
      "text/html": [
       "<div>\n",
       "<style scoped>\n",
       "    .dataframe tbody tr th:only-of-type {\n",
       "        vertical-align: middle;\n",
       "    }\n",
       "\n",
       "    .dataframe tbody tr th {\n",
       "        vertical-align: top;\n",
       "    }\n",
       "\n",
       "    .dataframe thead th {\n",
       "        text-align: right;\n",
       "    }\n",
       "</style>\n",
       "<table border=\"1\" class=\"dataframe\">\n",
       "  <thead>\n",
       "    <tr style=\"text-align: right;\">\n",
       "      <th></th>\n",
       "      <th>image_id</th>\n",
       "      <th>level_1</th>\n",
       "      <th>x_min</th>\n",
       "      <th>y_min</th>\n",
       "      <th>x_max</th>\n",
       "      <th>y_max</th>\n",
       "    </tr>\n",
       "  </thead>\n",
       "  <tbody>\n",
       "    <tr>\n",
       "      <th>67866</th>\n",
       "      <td>ff6b2b10b8f2350ab09d8690c9c83154</td>\n",
       "      <td>0</td>\n",
       "      <td>154.854902</td>\n",
       "      <td>298.085603</td>\n",
       "      <td>370.94902</td>\n",
       "      <td>348.140078</td>\n",
       "    </tr>\n",
       "  </tbody>\n",
       "</table>\n",
       "</div>"
      ],
      "text/plain": [
       "                               image_id  level_1       x_min       y_min  \\\n",
       "67866  ff6b2b10b8f2350ab09d8690c9c83154        0  154.854902  298.085603   \n",
       "\n",
       "           x_max       y_max  \n",
       "67866  370.94902  348.140078  "
      ]
     },
     "execution_count": 108,
     "metadata": {},
     "output_type": "execute_result"
    }
   ],
   "source": [
    "train_nms_df[train_nms_df['image_id'] == idx]"
   ]
  },
  {
   "cell_type": "code",
   "execution_count": 65,
   "metadata": {},
   "outputs": [
    {
     "data": {
      "text/plain": [
       "(40509, 40509, 8881)"
      ]
     },
     "execution_count": 65,
     "metadata": {},
     "output_type": "execute_result"
    }
   ],
   "source": [
    "combined_train_df['image_id'].nunique(), train_nms_df['image_id'].nunique(), train_result_df['image_id'].nunique()"
   ]
  },
  {
   "cell_type": "code",
   "execution_count": 61,
   "metadata": {},
   "outputs": [
    {
     "data": {
      "text/plain": [
       "array(['03da08b4-9f24-4822-8b2b-4abf27e3c9a8',\n",
       "       '06697be9-b1ab-444c-af0d-fd11a053f2b3',\n",
       "       '074f91b5-e915-4b6f-bdf0-af1ee55ebd9b', ...,\n",
       "       'cc398f956e6eb52101027360302a66f8',\n",
       "       '3d99c31c358e664d2b39d312dbabcd33',\n",
       "       'f27211729f43d69b1162fc2d5f1881a1'], dtype=object)"
      ]
     },
     "execution_count": 61,
     "metadata": {},
     "output_type": "execute_result"
    }
   ],
   "source": [
    "combined_val_df['image_id'].unique()"
   ]
  },
  {
   "cell_type": "code",
   "execution_count": 87,
   "metadata": {},
   "outputs": [
    {
     "data": {
      "text/html": [
       "<div>\n",
       "<style scoped>\n",
       "    .dataframe tbody tr th:only-of-type {\n",
       "        vertical-align: middle;\n",
       "    }\n",
       "\n",
       "    .dataframe tbody tr th {\n",
       "        vertical-align: top;\n",
       "    }\n",
       "\n",
       "    .dataframe thead th {\n",
       "        text-align: right;\n",
       "    }\n",
       "</style>\n",
       "<table border=\"1\" class=\"dataframe\">\n",
       "  <thead>\n",
       "    <tr style=\"text-align: right;\">\n",
       "      <th></th>\n",
       "      <th>image_id</th>\n",
       "      <th>level_1</th>\n",
       "      <th>x_min</th>\n",
       "      <th>y_min</th>\n",
       "      <th>x_max</th>\n",
       "      <th>y_max</th>\n",
       "      <th>area</th>\n",
       "      <th>path</th>\n",
       "      <th>class_name</th>\n",
       "      <th>class_id</th>\n",
       "    </tr>\n",
       "  </thead>\n",
       "  <tbody>\n",
       "    <tr>\n",
       "      <th>2132</th>\n",
       "      <td>f27211729f43d69b1162fc2d5f1881a1</td>\n",
       "      <td>0</td>\n",
       "      <td>NaN</td>\n",
       "      <td>NaN</td>\n",
       "      <td>NaN</td>\n",
       "      <td>NaN</td>\n",
       "      <td>NaN</td>\n",
       "      <td>/share/nvmedata/vinbigdata-chest-xray-resized-...</td>\n",
       "      <td>No Finding</td>\n",
       "      <td>14</td>\n",
       "    </tr>\n",
       "  </tbody>\n",
       "</table>\n",
       "</div>"
      ],
      "text/plain": [
       "                              image_id  level_1  x_min  y_min  x_max  y_max  \\\n",
       "2132  f27211729f43d69b1162fc2d5f1881a1        0    NaN    NaN    NaN    NaN   \n",
       "\n",
       "      area                                               path  class_name  \\\n",
       "2132   NaN  /share/nvmedata/vinbigdata-chest-xray-resized-...  No Finding   \n",
       "\n",
       "      class_id  \n",
       "2132        14  "
      ]
     },
     "execution_count": 87,
     "metadata": {},
     "output_type": "execute_result"
    }
   ],
   "source": [
    "\n",
    "idx= combined_val_df['image_id'].unique()[-1]\n",
    "\n",
    "val_result_df[val_result_df['image_id'] == idx]"
   ]
  },
  {
   "cell_type": "code",
   "execution_count": null,
   "metadata": {},
   "outputs": [],
   "source": []
  },
  {
   "cell_type": "code",
   "execution_count": 117,
   "metadata": {},
   "outputs": [],
   "source": [
    "a = '00575e3846ebd05a909d97ba59c53d30.pt'"
   ]
  },
  {
   "cell_type": "code",
   "execution_count": 121,
   "metadata": {},
   "outputs": [
    {
     "data": {
      "text/plain": [
       "True"
      ]
     },
     "execution_count": 121,
     "metadata": {},
     "output_type": "execute_result"
    }
   ],
   "source": [
    "a in  os.listdir('/share/nvmedata/vinbigdata-chest-xray-resized-pt-512x512/val')"
   ]
  },
  {
   "attachments": {},
   "cell_type": "markdown",
   "metadata": {},
   "source": [
    "## Fresh"
   ]
  },
  {
   "cell_type": "code",
   "execution_count": 31,
   "metadata": {},
   "outputs": [
    {
     "data": {
      "text/html": [
       "<div>\n",
       "<style scoped>\n",
       "    .dataframe tbody tr th:only-of-type {\n",
       "        vertical-align: middle;\n",
       "    }\n",
       "\n",
       "    .dataframe tbody tr th {\n",
       "        vertical-align: top;\n",
       "    }\n",
       "\n",
       "    .dataframe thead th {\n",
       "        text-align: right;\n",
       "    }\n",
       "</style>\n",
       "<table border=\"1\" class=\"dataframe\">\n",
       "  <thead>\n",
       "    <tr style=\"text-align: right;\">\n",
       "      <th></th>\n",
       "      <th>image_id</th>\n",
       "      <th>level_1</th>\n",
       "      <th>x_min</th>\n",
       "      <th>y_min</th>\n",
       "      <th>x_max</th>\n",
       "      <th>y_max</th>\n",
       "      <th>area</th>\n",
       "      <th>path</th>\n",
       "      <th>class_name</th>\n",
       "      <th>class_id</th>\n",
       "    </tr>\n",
       "  </thead>\n",
       "  <tbody>\n",
       "    <tr>\n",
       "      <th>0</th>\n",
       "      <td>000434271f63a053c4128a0ba6352c7f</td>\n",
       "      <td>0</td>\n",
       "      <td>NaN</td>\n",
       "      <td>NaN</td>\n",
       "      <td>NaN</td>\n",
       "      <td>NaN</td>\n",
       "      <td>NaN</td>\n",
       "      <td>/share/nvmedata/vinbigdata-chest-xray-resized-...</td>\n",
       "      <td>No Finding</td>\n",
       "      <td>14</td>\n",
       "    </tr>\n",
       "    <tr>\n",
       "      <th>1</th>\n",
       "      <td>0004cfab-14fd-4e49-80ba-63a80b6bddd6</td>\n",
       "      <td>0</td>\n",
       "      <td>NaN</td>\n",
       "      <td>NaN</td>\n",
       "      <td>NaN</td>\n",
       "      <td>NaN</td>\n",
       "      <td>NaN</td>\n",
       "      <td>/share/nvmedata/RSNA-Pneunomia-Detection-PT/st...</td>\n",
       "      <td>No Finding</td>\n",
       "      <td>14</td>\n",
       "    </tr>\n",
       "    <tr>\n",
       "      <th>2</th>\n",
       "      <td>00053190460d56c53cc3e57321387478</td>\n",
       "      <td>0</td>\n",
       "      <td>NaN</td>\n",
       "      <td>NaN</td>\n",
       "      <td>NaN</td>\n",
       "      <td>NaN</td>\n",
       "      <td>NaN</td>\n",
       "      <td>/share/nvmedata/vinbigdata-chest-xray-resized-...</td>\n",
       "      <td>No Finding</td>\n",
       "      <td>14</td>\n",
       "    </tr>\n",
       "    <tr>\n",
       "      <th>3</th>\n",
       "      <td>0005e8e3701dfb1dd93d53e2ff537b6e</td>\n",
       "      <td>0</td>\n",
       "      <td>155.333333</td>\n",
       "      <td>94.5</td>\n",
       "      <td>199.5</td>\n",
       "      <td>149.333333</td>\n",
       "      <td>2550.138889</td>\n",
       "      <td>/share/nvmedata/vinbigdata-chest-xray-resized-...</td>\n",
       "      <td>Lung Opacity</td>\n",
       "      <td>7</td>\n",
       "    </tr>\n",
       "    <tr>\n",
       "      <th>4</th>\n",
       "      <td>0006e0a85696f6bb578e84fafa9a5607</td>\n",
       "      <td>0</td>\n",
       "      <td>NaN</td>\n",
       "      <td>NaN</td>\n",
       "      <td>NaN</td>\n",
       "      <td>NaN</td>\n",
       "      <td>NaN</td>\n",
       "      <td>/share/nvmedata/vinbigdata-chest-xray-resized-...</td>\n",
       "      <td>No Finding</td>\n",
       "      <td>14</td>\n",
       "    </tr>\n",
       "  </tbody>\n",
       "</table>\n",
       "</div>"
      ],
      "text/plain": [
       "                               image_id  level_1       x_min  y_min  x_max  \\\n",
       "0      000434271f63a053c4128a0ba6352c7f        0         NaN    NaN    NaN   \n",
       "1  0004cfab-14fd-4e49-80ba-63a80b6bddd6        0         NaN    NaN    NaN   \n",
       "2      00053190460d56c53cc3e57321387478        0         NaN    NaN    NaN   \n",
       "3      0005e8e3701dfb1dd93d53e2ff537b6e        0  155.333333   94.5  199.5   \n",
       "4      0006e0a85696f6bb578e84fafa9a5607        0         NaN    NaN    NaN   \n",
       "\n",
       "        y_max         area                                               path  \\\n",
       "0         NaN          NaN  /share/nvmedata/vinbigdata-chest-xray-resized-...   \n",
       "1         NaN          NaN  /share/nvmedata/RSNA-Pneunomia-Detection-PT/st...   \n",
       "2         NaN          NaN  /share/nvmedata/vinbigdata-chest-xray-resized-...   \n",
       "3  149.333333  2550.138889  /share/nvmedata/vinbigdata-chest-xray-resized-...   \n",
       "4         NaN          NaN  /share/nvmedata/vinbigdata-chest-xray-resized-...   \n",
       "\n",
       "     class_name  class_id  \n",
       "0    No Finding        14  \n",
       "1    No Finding        14  \n",
       "2    No Finding        14  \n",
       "3  Lung Opacity         7  \n",
       "4    No Finding        14  "
      ]
     },
     "execution_count": 31,
     "metadata": {},
     "output_type": "execute_result"
    }
   ],
   "source": [
    "vindr_combined_df = pd.read_csv(\"/share/nvmedata/vinbigdata-chest-xray-resized-pt-512x512/rsna_vindr_cnet_csv/train.csv\")\n",
    "vindr_combined_df.head()"
   ]
  },
  {
   "cell_type": "code",
   "execution_count": 32,
   "metadata": {},
   "outputs": [
    {
     "data": {
      "text/plain": [
       "((45451, 10), 40509)"
      ]
     },
     "execution_count": 32,
     "metadata": {},
     "output_type": "execute_result"
    }
   ],
   "source": [
    "# check if any image has more than one labels\n",
    "vindr_combined_df.shape, vindr_combined_df['image_id'].nunique() "
   ]
  },
  {
   "cell_type": "code",
   "execution_count": null,
   "metadata": {},
   "outputs": [],
   "source": []
  }
 ],
 "metadata": {
  "kernelspec": {
   "display_name": "Python 3",
   "language": "python",
   "name": "python3"
  },
  "language_info": {
   "codemirror_mode": {
    "name": "ipython",
    "version": 3
   },
   "file_extension": ".py",
   "mimetype": "text/x-python",
   "name": "python",
   "nbconvert_exporter": "python",
   "pygments_lexer": "ipython3",
   "version": "3.8.5"
  },
  "orig_nbformat": 4
 },
 "nbformat": 4,
 "nbformat_minor": 2
}
